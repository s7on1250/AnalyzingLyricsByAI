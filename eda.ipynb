{
 "cells": [
  {
   "cell_type": "code",
   "execution_count": 54,
   "id": "initial_id",
   "metadata": {
    "collapsed": true,
    "ExecuteTime": {
     "end_time": "2024-04-08T13:07:27.507596Z",
     "start_time": "2024-04-08T13:07:22.679941Z"
    }
   },
   "outputs": [],
   "source": [
    "import pandas as pd\n",
    "import numpy as np\n",
    "df = pd.read_csv('good_quality_cutted.csv')\n"
   ]
  },
  {
   "cell_type": "code",
   "outputs": [],
   "source": [
    "df.cleaned_text = df.cleaned_text.str.replace(' s ','')\n",
    "df.cleaned_text = df.cleaned_text.str.replace(' S ','')\n",
    "df.cleaned_text = df.cleaned_text.str.replace(' m ','')\n",
    "df.cleaned_text = df.cleaned_text.str.replace(' M ','')\n",
    "df.cleaned_text = df.cleaned_text.str.replace(' re ','')\n",
    "df.cleaned_text = df.cleaned_text.str.replace(' Re ','')\n",
    "df.cleaned_text = df.cleaned_text.str.replace(' don ','')\n",
    "df.cleaned_text = df.cleaned_text.str.replace(' Don ','')\n",
    "df.cleaned_text = df.cleaned_text.str.replace(' t ','')\n",
    "df.cleaned_text = df.cleaned_text.str.replace(' T ','')"
   ],
   "metadata": {
    "collapsed": false,
    "ExecuteTime": {
     "end_time": "2024-04-08T13:07:32.568176Z",
     "start_time": "2024-04-08T13:07:27.508772Z"
    }
   },
   "id": "a04ed32ee041a0e2",
   "execution_count": 55
  },
  {
   "cell_type": "code",
   "outputs": [],
   "source": [
    "rap_lyrics = ''.join(list(df[df.tag == 'rap'].cleaned_text))\n",
    "rock_lyrics = ''.join(list(df[df.tag == 'rock'].cleaned_text))\n",
    "rb_lyrics = ''.join(list(df[df.tag == 'rb'].cleaned_text))\n",
    "country_lyrics = ''.join(list(df[df.tag == 'country'].cleaned_text))\n",
    "pop_lyrics = ''.join(list(df[df.tag == 'pop'].cleaned_text))"
   ],
   "metadata": {
    "collapsed": false,
    "ExecuteTime": {
     "end_time": "2024-04-08T13:07:32.724034Z",
     "start_time": "2024-04-08T13:07:32.569612Z"
    }
   },
   "id": "862108e4644d469c",
   "execution_count": 56
  },
  {
   "cell_type": "code",
   "outputs": [],
   "source": [
    "#!pip install stylecloud\n",
    "import stylecloud\n",
    "stylecloud.gen_stylecloud(text=rb_lyrics,\n",
    "                          icon_name=\"fas fa-drum\",\n",
    "                          output_name='rb.png')\n",
    "stylecloud.gen_stylecloud(text=pop_lyrics,\n",
    "                          icon_name=\"fas fa-music\",\n",
    "                          output_name='pop.png')\n",
    "stylecloud.gen_stylecloud(text=country_lyrics,\n",
    "                          icon_name=\"fas fa-guitar\",\n",
    "                          output_name='country.png')\n",
    "stylecloud.gen_stylecloud(text=rock_lyrics,\n",
    "                          icon_name=\"fas fa-bolt\",\n",
    "                          output_name='rock.png')\n",
    "stylecloud.gen_stylecloud(text=rap_lyrics,\n",
    "                          icon_name=\"fas fa-microphone\",\n",
    "                          output_name='rap.png')\n",
    "\n"
   ],
   "metadata": {
    "collapsed": false,
    "ExecuteTime": {
     "end_time": "2024-04-08T13:08:56.735014Z",
     "start_time": "2024-04-08T13:07:32.726101Z"
    }
   },
   "id": "c79eebffcdfd893c",
   "execution_count": 57
  },
  {
   "cell_type": "code",
   "outputs": [],
   "source": [
    "from textblob import TextBlob\n",
    "import pandas as pd\n",
    "import numpy as np\n",
    "df = pd.read_csv('good_quality_cutted.csv')\n",
    "rap_lyrics = list(df[df.tag == 'rap'].cleaned_text)\n",
    "rock_lyrics = list(df[df.tag == 'rock'].cleaned_text)\n",
    "rb_lyrics = list(df[df.tag == 'rb'].cleaned_text)\n",
    "country_lyrics = list(df[df.tag == 'country'].cleaned_text)\n",
    "pop_lyrics = list(df[df.tag == 'pop'].cleaned_text)\n",
    "rap_sentiment = {'pos':[0],'neut':[0],'neg':[0]}\n",
    "rock_sentiment = {'pos':[0],'neut':[0],'neg':[0]}\n",
    "rb_sentiment = {'pos':[0],'neut':[0],'neg':[0]}\n",
    "country_sentiment = {'pos':[0],'neut':[0],'neg':[0]}\n",
    "pop_sentiment = {'pos':[0],'neut':[0],'neg':[0]}\n",
    "for i in rap_lyrics:\n",
    "    blob = TextBlob(i)\n",
    "    sentiment_score = blob.sentiment.polarity\n",
    "    if sentiment_score >= 0.5:\n",
    "        rap_sentiment['pos'][0] += 1\n",
    "    elif sentiment_score <= -0.5:\n",
    "        rap_sentiment['neg'][0] += 1\n",
    "    else:\n",
    "        rap_sentiment['neut'][0] += 1\n",
    "for i in rock_lyrics:\n",
    "    blob = TextBlob(i)\n",
    "    sentiment_score = blob.sentiment.polarity\n",
    "    if sentiment_score >= 0.5:\n",
    "        rock_sentiment['pos'][0] += 1\n",
    "    elif sentiment_score <= -0.5:\n",
    "        rock_sentiment['neg'][0] += 1\n",
    "    else:\n",
    "        rock_sentiment['neut'][0] += 1\n",
    "for i in rb_lyrics:\n",
    "    blob = TextBlob(i)\n",
    "    sentiment_score = blob.sentiment.polarity\n",
    "    if sentiment_score >= 0.5:\n",
    "        rb_sentiment['pos'][0] += 1\n",
    "    elif sentiment_score <= -0.5:\n",
    "        rb_sentiment['neg'][0] += 1\n",
    "    else:\n",
    "        rb_sentiment['neut'][0] += 1\n",
    "for i in country_lyrics:\n",
    "    blob = TextBlob(i)\n",
    "    sentiment_score = blob.sentiment.polarity\n",
    "    if sentiment_score >= 0.5:\n",
    "        country_sentiment['pos'][0] += 1\n",
    "    elif sentiment_score <= -0.5:\n",
    "        country_sentiment['neg'][0] += 1\n",
    "    else:\n",
    "        country_sentiment['neut'][0] += 1\n",
    "for i in pop_lyrics:\n",
    "    blob = TextBlob(i)\n",
    "    sentiment_score = blob.sentiment.polarity\n",
    "    if sentiment_score >= 0.5:\n",
    "        pop_sentiment['pos'][0] += 1\n",
    "    elif sentiment_score <= -0.5:\n",
    "        pop_sentiment['neg'][0] += 1\n",
    "    else:\n",
    "        pop_sentiment['neut'][0] += 1\n",
    "\n"
   ],
   "metadata": {
    "collapsed": false,
    "ExecuteTime": {
     "end_time": "2024-04-08T20:00:57.429365Z",
     "start_time": "2024-04-08T19:57:58.425705Z"
    }
   },
   "id": "6dfd0116eb1df0bc",
   "execution_count": 15
  },
  {
   "cell_type": "code",
   "outputs": [
    {
     "name": "stdout",
     "output_type": "stream",
     "text": [
      "{'pos': [510], 'neut': [24306], 'neg': [184]}\n",
      "{'pos': [49], 'neut': [24918], 'neg': [33]}\n",
      "{'pos': [622], 'neut': [24295], 'neg': [83]}\n",
      "{'pos': [742], 'neut': [24159], 'neg': [99]}\n",
      "{'pos': [510], 'neut': [24442], 'neg': [48]}\n"
     ]
    },
    {
     "data": {
      "text/plain": "<AxesSubplot:xlabel='tag'>"
     },
     "execution_count": 20,
     "metadata": {},
     "output_type": "execute_result"
    },
    {
     "data": {
      "text/plain": "<Figure size 640x480 with 1 Axes>",
      "image/png": "[encoded data removed]"
     },
     "metadata": {},
     "output_type": "display_data"
    }
   ],
   "source": [
    "print(rock_sentiment)\n",
    "print(rap_sentiment)\n",
    "print(rb_sentiment)\n",
    "print(pop_sentiment)\n",
    "print(country_sentiment)\n",
    "bar_df = pd.concat([pd.DataFrame({'tag':['rock']}),pd.DataFrame(rock_sentiment)],axis=1)\n",
    "bar_df = pd.concat([bar_df,pd.concat([pd.DataFrame({'tag':['rap']}),pd.DataFrame(rap_sentiment)],axis=1)])\n",
    "bar_df = pd.concat([bar_df,pd.concat([pd.DataFrame({'tag':['rb']}),pd.DataFrame(rb_sentiment)],axis=1)])\n",
    "bar_df = pd.concat([bar_df,pd.concat([pd.DataFrame({'tag':['pop']}),pd.DataFrame(pop_sentiment)],axis=1)])\n",
    "bar_df = pd.concat([bar_df,pd.concat([pd.DataFrame({'tag':['country']}),pd.DataFrame(country_sentiment)],axis=1)])\n",
    "bar_df.plot.bar(x='tag', stacked=True)\n"
   ],
   "metadata": {
    "collapsed": false,
    "ExecuteTime": {
     "end_time": "2024-04-08T20:06:46.327840Z",
     "start_time": "2024-04-08T20:06:46.027237Z"
    }
   },
   "id": "1244795ed2efa3a0",
   "execution_count": 20
  },
  {
   "cell_type": "code",
   "outputs": [
    {
     "data": {
      "text/plain": "<AxesSubplot:xlabel='tag'>"
     },
     "execution_count": 37,
     "metadata": {},
     "output_type": "execute_result"
    },
    {
     "data": {
      "text/plain": "<Figure size 640x480 with 1 Axes>",
      "image/png": "[encoded data removed]"
     },
     "metadata": {},
     "output_type": "display_data"
    }
   ],
   "source": [
    "all_text = ' '.join(rock_lyrics)\n",
    "\n",
    "# Split the string into individual words\n",
    "all_words = all_text.split()\n",
    "\n",
    "# Calculate count of all words\n",
    "total_word_count = len(all_words)\n",
    "unique_word_count = len(set(all_words))\n",
    "# Calculate count of unique words\n",
    "rock_richness = unique_word_count / total_word_count\n",
    "    \n",
    "all_text = ' '.join(rap_lyrics)\n",
    "\n",
    "# Split the string into individual words\n",
    "all_words = all_text.split()\n",
    "\n",
    "# Calculate count of all words\n",
    "total_word_count = len(all_words)\n",
    "unique_word_count = len(set(all_words))\n",
    "# Calculate count of unique words\n",
    "rap_richness = unique_word_count / total_word_count\n",
    "all_text = ' '.join(rb_lyrics)\n",
    "\n",
    "# Split the string into individual words\n",
    "all_words = all_text.split()\n",
    "\n",
    "# Calculate count of all words\n",
    "total_word_count = len(all_words)\n",
    "unique_word_count = len(set(all_words))\n",
    "# Calculate count of unique words\n",
    "rb_richness = unique_word_count / total_word_count\n",
    "all_text = ' '.join(pop_lyrics)\n",
    "\n",
    "# Split the string into individual words\n",
    "all_words = all_text.split()\n",
    "\n",
    "# Calculate count of all words\n",
    "total_word_count = len(all_words)\n",
    "unique_word_count = len(set(all_words))\n",
    "# Calculate count of unique words\n",
    "pop_richness = unique_word_count / total_word_count\n",
    "all_text = ' '.join(country_lyrics)\n",
    "\n",
    "# Split the string into individual words\n",
    "all_words = all_text.split()\n",
    "\n",
    "# Calculate count of all words\n",
    "total_word_count = len(all_words)\n",
    "unique_word_count = len(set(all_words))\n",
    "# Calculate count of unique words\n",
    "country_richness = unique_word_count / total_word_count\n",
    "richness_df = pd.DataFrame({'tag': ['rock', 'rap', 'rb', 'pop', 'country'],\n",
    "                            'richness': [rock_richness,\n",
    "                                         rap_richness,\n",
    "                                         rb_richness,\n",
    "                                         pop_richness,\n",
    "                                         country_richness]})\n",
    "\n",
    "richness_df.plot.bar(x='tag', stacked=True)\n",
    "#richness_df"
   ],
   "metadata": {
    "collapsed": false,
    "ExecuteTime": {
     "end_time": "2024-04-08T20:24:21.770517Z",
     "start_time": "2024-04-08T20:24:15.149223Z"
    }
   },
   "id": "b157ba609c34605e",
   "execution_count": 37
  },
  {
   "cell_type": "code",
   "outputs": [],
   "source": [],
   "metadata": {
    "collapsed": false
   },
   "id": "708a45d15afb571c"
  }
 ],
 "metadata": {
  "kernelspec": {
   "display_name": "Python 3",
   "language": "python",
   "name": "python3"
  },
  "language_info": {
   "codemirror_mode": {
    "name": "ipython",
    "version": 2
   },
   "file_extension": ".py",
   "mimetype": "text/x-python",
   "name": "python",
   "nbconvert_exporter": "python",
   "pygments_lexer": "ipython2",
   "version": "2.7.6"
  }
 },
 "nbformat": 4,
 "nbformat_minor": 5
}
