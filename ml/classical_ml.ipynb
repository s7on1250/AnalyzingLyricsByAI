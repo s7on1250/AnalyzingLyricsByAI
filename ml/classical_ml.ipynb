{
 "cells": [
  {
   "metadata": {
    "ExecuteTime": {
     "end_time": "2024-04-11T11:32:28.395742Z",
     "start_time": "2024-04-11T11:32:28.326394Z"
    }
   },
   "cell_type": "code",
   "source": [
    "import numpy as np\n",
    "import pandas\n",
    "import pandas as pd\n",
    "import os\n",
    "import matplotlib.pyplot as plt\n",
    "import seaborn as sns\n",
    "from sklearn.metrics import classification_report"
   ],
   "id": "initial_id",
   "outputs": [],
   "execution_count": 2
  },
  {
   "metadata": {},
   "cell_type": "markdown",
   "source": "## Read df and preprocess",
   "id": "cb37c88d12a395bc"
  },
  {
   "metadata": {
    "ExecuteTime": {
     "end_time": "2024-04-11T11:32:31.218566Z",
     "start_time": "2024-04-11T11:32:28.853894Z"
    }
   },
   "cell_type": "code",
   "source": [
    "df = pd.read_csv(os.getcwd() + '/../data/perfect_dataset.csv')\n",
    "df.head()"
   ],
   "id": "6b3d0be1295e6e2c",
   "outputs": [
    {
     "data": {
      "text/plain": [
       "  old_tag                   title_x           artist_x  \\\n",
       "0    rock          Bring Me to Life        Evanescence   \n",
       "1    rock               My Immortal        Evanescence   \n",
       "2    rock                    Zombie         Bad Wolves   \n",
       "3    rock  A Little Piece of Heaven  Avenged Sevenfold   \n",
       "4    rock                  Doomsday         Architects   \n",
       "\n",
       "                                                text   views  \\\n",
       "0  [Verse 1: Amy Lee]\\nHow can you see into my ey...  658884   \n",
       "1  [Verse 1]\\nI'm so tired of being here\\nSuppres...  392209   \n",
       "2  [Verse 1]\\nAnother head hangs lowly\\nChild is ...  342157   \n",
       "3  [Verse 1: M. Shadows]\\nBefore the story begins...  259796   \n",
       "4  [Verse 1]\\nRemember when Hell had frozen over?...  217795   \n",
       "\n",
       "   processed_artist       processed_title    tag           artist_y  \\\n",
       "0       evanescence         bringmetolife  metal        Evanescence   \n",
       "1       evanescence            myimmortal  metal        Evanescence   \n",
       "2         badwolves                zombie  metal         Bad Wolves   \n",
       "3  avengedsevenfold  alittlepieceofheaven  metal  Avenged Sevenfold   \n",
       "4        architects              doomsday  metal         Architects   \n",
       "\n",
       "                    title_y       processed title  \\\n",
       "0          Bring Me To Life         bringmetolife   \n",
       "1               My Immortal            myimmortal   \n",
       "2                    Zombie                zombie   \n",
       "3  A Little Piece of Heaven  alittlepieceofheaven   \n",
       "4                  Doomsday              doomsday   \n",
       "\n",
       "                           artist_title  \n",
       "0              evanescencebringmetolife  \n",
       "1                 evanescencemyimmortal  \n",
       "2                       badwolveszombie  \n",
       "3  avengedsevenfoldalittlepieceofheaven  \n",
       "4                    architectsdoomsday  "
      ],
      "text/html": [
       "<div>\n",
       "<style scoped>\n",
       "    .dataframe tbody tr th:only-of-type {\n",
       "        vertical-align: middle;\n",
       "    }\n",
       "\n",
       "    .dataframe tbody tr th {\n",
       "        vertical-align: top;\n",
       "    }\n",
       "\n",
       "    .dataframe thead th {\n",
       "        text-align: right;\n",
       "    }\n",
       "</style>\n",
       "<table border=\"1\" class=\"dataframe\">\n",
       "  <thead>\n",
       "    <tr style=\"text-align: right;\">\n",
       "      <th></th>\n",
       "      <th>old_tag</th>\n",
       "      <th>title_x</th>\n",
       "      <th>artist_x</th>\n",
       "      <th>text</th>\n",
       "      <th>views</th>\n",
       "      <th>processed_artist</th>\n",
       "      <th>processed_title</th>\n",
       "      <th>tag</th>\n",
       "      <th>artist_y</th>\n",
       "      <th>title_y</th>\n",
       "      <th>processed title</th>\n",
       "      <th>artist_title</th>\n",
       "    </tr>\n",
       "  </thead>\n",
       "  <tbody>\n",
       "    <tr>\n",
       "      <th>0</th>\n",
       "      <td>rock</td>\n",
       "      <td>Bring Me to Life</td>\n",
       "      <td>Evanescence</td>\n",
       "      <td>[Verse 1: Amy Lee]\\nHow can you see into my ey...</td>\n",
       "      <td>658884</td>\n",
       "      <td>evanescence</td>\n",
       "      <td>bringmetolife</td>\n",
       "      <td>metal</td>\n",
       "      <td>Evanescence</td>\n",
       "      <td>Bring Me To Life</td>\n",
       "      <td>bringmetolife</td>\n",
       "      <td>evanescencebringmetolife</td>\n",
       "    </tr>\n",
       "    <tr>\n",
       "      <th>1</th>\n",
       "      <td>rock</td>\n",
       "      <td>My Immortal</td>\n",
       "      <td>Evanescence</td>\n",
       "      <td>[Verse 1]\\nI'm so tired of being here\\nSuppres...</td>\n",
       "      <td>392209</td>\n",
       "      <td>evanescence</td>\n",
       "      <td>myimmortal</td>\n",
       "      <td>metal</td>\n",
       "      <td>Evanescence</td>\n",
       "      <td>My Immortal</td>\n",
       "      <td>myimmortal</td>\n",
       "      <td>evanescencemyimmortal</td>\n",
       "    </tr>\n",
       "    <tr>\n",
       "      <th>2</th>\n",
       "      <td>rock</td>\n",
       "      <td>Zombie</td>\n",
       "      <td>Bad Wolves</td>\n",
       "      <td>[Verse 1]\\nAnother head hangs lowly\\nChild is ...</td>\n",
       "      <td>342157</td>\n",
       "      <td>badwolves</td>\n",
       "      <td>zombie</td>\n",
       "      <td>metal</td>\n",
       "      <td>Bad Wolves</td>\n",
       "      <td>Zombie</td>\n",
       "      <td>zombie</td>\n",
       "      <td>badwolveszombie</td>\n",
       "    </tr>\n",
       "    <tr>\n",
       "      <th>3</th>\n",
       "      <td>rock</td>\n",
       "      <td>A Little Piece of Heaven</td>\n",
       "      <td>Avenged Sevenfold</td>\n",
       "      <td>[Verse 1: M. Shadows]\\nBefore the story begins...</td>\n",
       "      <td>259796</td>\n",
       "      <td>avengedsevenfold</td>\n",
       "      <td>alittlepieceofheaven</td>\n",
       "      <td>metal</td>\n",
       "      <td>Avenged Sevenfold</td>\n",
       "      <td>A Little Piece of Heaven</td>\n",
       "      <td>alittlepieceofheaven</td>\n",
       "      <td>avengedsevenfoldalittlepieceofheaven</td>\n",
       "    </tr>\n",
       "    <tr>\n",
       "      <th>4</th>\n",
       "      <td>rock</td>\n",
       "      <td>Doomsday</td>\n",
       "      <td>Architects</td>\n",
       "      <td>[Verse 1]\\nRemember when Hell had frozen over?...</td>\n",
       "      <td>217795</td>\n",
       "      <td>architects</td>\n",
       "      <td>doomsday</td>\n",
       "      <td>metal</td>\n",
       "      <td>Architects</td>\n",
       "      <td>Doomsday</td>\n",
       "      <td>doomsday</td>\n",
       "      <td>architectsdoomsday</td>\n",
       "    </tr>\n",
       "  </tbody>\n",
       "</table>\n",
       "</div>"
      ]
     },
     "execution_count": 3,
     "metadata": {},
     "output_type": "execute_result"
    }
   ],
   "execution_count": 3
  },
  {
   "metadata": {
    "ExecuteTime": {
     "end_time": "2024-04-11T08:58:42.704445Z",
     "start_time": "2024-04-11T08:58:42.700931Z"
    }
   },
   "cell_type": "code",
   "source": "df.shape",
   "id": "710d907afcbfb9f9",
   "outputs": [
    {
     "data": {
      "text/plain": [
       "(175000, 12)"
      ]
     },
     "execution_count": 6,
     "metadata": {},
     "output_type": "execute_result"
    }
   ],
   "execution_count": 6
  },
  {
   "metadata": {
    "ExecuteTime": {
     "end_time": "2024-04-11T08:58:42.734658Z",
     "start_time": "2024-04-11T08:58:42.705065Z"
    }
   },
   "cell_type": "code",
   "source": [
    "df = df.sample(frac=0.2, random_state=42)\n",
    "df.shape"
   ],
   "id": "5b51a8e0dac272ec",
   "outputs": [
    {
     "data": {
      "text/plain": [
       "(35000, 12)"
      ]
     },
     "execution_count": 7,
     "metadata": {},
     "output_type": "execute_result"
    }
   ],
   "execution_count": 7
  },
  {
   "metadata": {
    "ExecuteTime": {
     "end_time": "2024-04-11T08:58:42.749647Z",
     "start_time": "2024-04-11T08:58:42.735993Z"
    }
   },
   "cell_type": "code",
   "source": [
    "df = df[['text', 'tag']]\n",
    "df.columns = ['lyrics', 'genre']\n",
    "df.head()"
   ],
   "id": "4c3608a8d67e8598",
   "outputs": [
    {
     "data": {
      "text/plain": [
       "                                                   lyrics  genre\n",
       "148789  [Instrumental intro 0:00-1:03]\\n\\n[Chorus]\\nWi...   rock\n",
       "169618  Brother, Brother\\nHelp me please\\nI'm as lonel...   rock\n",
       "131258  [Intro: Howard Hewett, Monty Seward]\\nYou know...     rb\n",
       "31864   Gazing at the stars\\nWe're flying over million...  metal\n",
       "11032   Timeless we are, timeless we are\\nChildren run...  metal"
      ],
      "text/html": [
       "<div>\n",
       "<style scoped>\n",
       "    .dataframe tbody tr th:only-of-type {\n",
       "        vertical-align: middle;\n",
       "    }\n",
       "\n",
       "    .dataframe tbody tr th {\n",
       "        vertical-align: top;\n",
       "    }\n",
       "\n",
       "    .dataframe thead th {\n",
       "        text-align: right;\n",
       "    }\n",
       "</style>\n",
       "<table border=\"1\" class=\"dataframe\">\n",
       "  <thead>\n",
       "    <tr style=\"text-align: right;\">\n",
       "      <th></th>\n",
       "      <th>lyrics</th>\n",
       "      <th>genre</th>\n",
       "    </tr>\n",
       "  </thead>\n",
       "  <tbody>\n",
       "    <tr>\n",
       "      <th>148789</th>\n",
       "      <td>[Instrumental intro 0:00-1:03]\\n\\n[Chorus]\\nWi...</td>\n",
       "      <td>rock</td>\n",
       "    </tr>\n",
       "    <tr>\n",
       "      <th>169618</th>\n",
       "      <td>Brother, Brother\\nHelp me please\\nI'm as lonel...</td>\n",
       "      <td>rock</td>\n",
       "    </tr>\n",
       "    <tr>\n",
       "      <th>131258</th>\n",
       "      <td>[Intro: Howard Hewett, Monty Seward]\\nYou know...</td>\n",
       "      <td>rb</td>\n",
       "    </tr>\n",
       "    <tr>\n",
       "      <th>31864</th>\n",
       "      <td>Gazing at the stars\\nWe're flying over million...</td>\n",
       "      <td>metal</td>\n",
       "    </tr>\n",
       "    <tr>\n",
       "      <th>11032</th>\n",
       "      <td>Timeless we are, timeless we are\\nChildren run...</td>\n",
       "      <td>metal</td>\n",
       "    </tr>\n",
       "  </tbody>\n",
       "</table>\n",
       "</div>"
      ]
     },
     "execution_count": 8,
     "metadata": {},
     "output_type": "execute_result"
    }
   ],
   "execution_count": 8
  },
  {
   "metadata": {
    "ExecuteTime": {
     "end_time": "2024-04-11T08:58:42.763211Z",
     "start_time": "2024-04-11T08:58:42.750648Z"
    }
   },
   "cell_type": "code",
   "source": [
    "from sklearn.model_selection import train_test_split\n",
    "\n",
    "train_df, test_df = train_test_split(df, test_size=0.2, random_state=42)"
   ],
   "id": "a8b832803c219aad",
   "outputs": [],
   "execution_count": 9
  },
  {
   "metadata": {
    "ExecuteTime": {
     "end_time": "2024-04-11T08:59:47.569254Z",
     "start_time": "2024-04-11T08:58:42.764209Z"
    }
   },
   "cell_type": "code",
   "source": [
    "# Remove stop words\n",
    "from nltk.corpus import stopwords\n",
    "from nltk.tokenize import word_tokenize\n",
    "from nltk.stem import PorterStemmer\n",
    "import string\n",
    "\n",
    "stop_words = set(stopwords.words('english'))\n",
    "stemmer = PorterStemmer()\n",
    "\n",
    "def preprocess_text(text):\n",
    "    text = text.lower()\n",
    "    text = word_tokenize(text)\n",
    "    text = [stemmer.stem(word) for word in text if word not in stop_words and word not in string.punctuation and len(word)]\n",
    "    return ' '.join(text)\n",
    "\n",
    "train_df['lyrics'] = train_df['lyrics'].apply(preprocess_text)\n",
    "test_df['lyrics'] = test_df['lyrics'].apply(preprocess_text)"
   ],
   "id": "87ab87143ff0387f",
   "outputs": [],
   "execution_count": 10
  },
  {
   "metadata": {
    "ExecuteTime": {
     "end_time": "2024-04-11T08:59:47.572452Z",
     "start_time": "2024-04-11T08:59:47.570783Z"
    }
   },
   "cell_type": "code",
   "source": [
    "# # Apply tf idf on feature (lyrics)\n",
    "# from sklearn.feature_extraction.text import TfidfVectorizer\n",
    "# tfidf = TfidfVectorizer(stop_words='english', max_df=0.7, min_df=0.0001)\n",
    "# X_train = tfidf.fit_transform(train_df['lyrics'])\n",
    "# X_test = tfidf.transform(test_df['lyrics'])\n",
    "# X_train.shape"
   ],
   "id": "141e1c212e798559",
   "outputs": [],
   "execution_count": 11
  },
  {
   "metadata": {
    "ExecuteTime": {
     "end_time": "2024-04-11T08:59:47.593893Z",
     "start_time": "2024-04-11T08:59:47.573059Z"
    }
   },
   "cell_type": "code",
   "source": [
    "# # Apply bag of words\n",
    "# from sklearn.feature_extraction.text import CountVectorizer\n",
    "# cv = CountVectorizer(stop_words='english', max_df=0.7, min_df=0.0001)\n",
    "# X_train = cv.fit_transform(train_df['lyrics'])\n",
    "# X_test = cv.transform(test_df['lyrics'])\n",
    "# X_train.shape"
   ],
   "id": "4eb3b68be30b6c71",
   "outputs": [],
   "execution_count": 12
  },
  {
   "metadata": {
    "ExecuteTime": {
     "end_time": "2024-04-11T09:01:37.533510Z",
     "start_time": "2024-04-11T09:01:24.401176Z"
    }
   },
   "cell_type": "code",
   "source": [
    "# n-grams bag of words\n",
    "from sklearn.feature_extraction.text import CountVectorizer\n",
    "cv = CountVectorizer(ngram_range=(1, 3), max_df=0.5, min_df=0.0001)\n",
    "X_train = cv.fit_transform(train_df['lyrics'])\n",
    "X_test = cv.transform(test_df['lyrics'])\n",
    "X_train.shape"
   ],
   "id": "d6e7bd4e508002",
   "outputs": [
    {
     "data": {
      "text/plain": [
       "(28000, 294874)"
      ]
     },
     "execution_count": 17,
     "metadata": {},
     "output_type": "execute_result"
    }
   ],
   "execution_count": 17
  },
  {
   "metadata": {
    "ExecuteTime": {
     "end_time": "2024-04-11T09:01:37.541831Z",
     "start_time": "2024-04-11T09:01:37.534359Z"
    }
   },
   "cell_type": "code",
   "source": [
    "# Encode target\n",
    "from sklearn.preprocessing import OrdinalEncoder\n",
    "\n",
    "encoder = OrdinalEncoder()\n",
    "y_train = encoder.fit_transform(train_df[['genre']]).ravel()\n",
    "y_test = encoder.transform(test_df[['genre']]).ravel()\n",
    "y_train.shape"
   ],
   "id": "d03975c656c6344a",
   "outputs": [
    {
     "data": {
      "text/plain": [
       "(28000,)"
      ]
     },
     "execution_count": 18,
     "metadata": {},
     "output_type": "execute_result"
    }
   ],
   "execution_count": 18
  },
  {
   "metadata": {},
   "cell_type": "markdown",
   "source": "## Classical ML models",
   "id": "9ece6341a1c88817"
  },
  {
   "metadata": {
    "ExecuteTime": {
     "end_time": "2024-04-11T09:01:38.667860Z",
     "start_time": "2024-04-11T09:01:37.542318Z"
    }
   },
   "cell_type": "code",
   "source": [
    "from sklearn.linear_model import SGDClassifier\n",
    "from sklearn.metrics import accuracy_score, f1_score, recall_score\n",
    "\n",
    "model = SGDClassifier(n_jobs=-1)\n",
    "model.fit(X_train, y_train)\n",
    "y_pred = model.predict(X_test)\n",
    "\n",
    "print(accuracy_score(y_test, y_pred), f1_score(y_test, y_pred, average='weighted'), recall_score(y_test, y_pred, average='weighted'))"
   ],
   "id": "6edf316694879bd2",
   "outputs": [
    {
     "name": "stdout",
     "output_type": "stream",
     "text": [
      "0.5964285714285714 0.5947728424566038 0.5964285714285714\n"
     ]
    }
   ],
   "execution_count": 19
  },
  {
   "metadata": {
    "ExecuteTime": {
     "end_time": "2024-04-11T09:03:16.596214Z",
     "start_time": "2024-04-11T09:01:38.669302Z"
    }
   },
   "cell_type": "code",
   "source": [
    "from sklearn.linear_model import LogisticRegression\n",
    "from sklearn.metrics import accuracy_score, f1_score, recall_score\n",
    "\n",
    "model = LogisticRegression(max_iter=1500, n_jobs=-1)\n",
    "model.fit(X_train, y_train)\n",
    "y_pred = model.predict(X_test)\n",
    "\n",
    "print(accuracy_score(y_test, y_pred), f1_score(y_test, y_pred, average='weighted'), recall_score(y_test, y_pred, average='weighted'))\n"
   ],
   "id": "396f7da4c154e2dc",
   "outputs": [
    {
     "name": "stdout",
     "output_type": "stream",
     "text": [
      "0.6207142857142857 0.6188649122782673 0.6207142857142857\n"
     ]
    }
   ],
   "execution_count": 20
  },
  {
   "metadata": {
    "ExecuteTime": {
     "end_time": "2024-04-11T09:03:16.598612Z",
     "start_time": "2024-04-11T09:03:16.596931Z"
    }
   },
   "cell_type": "code",
   "source": [
    "# import seaborn as sns\n",
    "# from sklearn.metrics import confusion_matrix\n",
    "# \n",
    "# cm = confusion_matrix(y_test, y_pred)\n",
    "# sns.heatmap(cm, annot=True, fmt='d', xticklabels=encoder.categories_[0], yticklabels=encoder.categories_[0])\n",
    "# plt.xlabel('Predicted')\n",
    "# plt.ylabel('Actual')\n",
    "# plt.title('LogReg Confusion Matrix')\n",
    "# plt.savefig('log_reg_cm.png')"
   ],
   "id": "6cbd0bdda399e12e",
   "outputs": [],
   "execution_count": 21
  },
  {
   "metadata": {
    "ExecuteTime": {
     "end_time": "2024-04-11T09:03:21.219142Z",
     "start_time": "2024-04-11T09:03:16.599144Z"
    }
   },
   "cell_type": "code",
   "source": [
    "from sklearn.neighbors import KNeighborsClassifier\n",
    "from sklearn.metrics import accuracy_score, f1_score, recall_score\n",
    "\n",
    "model = KNeighborsClassifier(n_jobs=-1)\n",
    "model.fit(X_train, y_train)\n",
    "y_pred = model.predict(X_test)\n",
    "\n",
    "print(accuracy_score(y_test, y_pred), f1_score(y_test, y_pred, average='weighted'), recall_score(y_test, y_pred, average='weighted'))\n"
   ],
   "id": "7d7f0917d8f8eda5",
   "outputs": [
    {
     "name": "stdout",
     "output_type": "stream",
     "text": [
      "0.398 0.3785506106861004 0.398\n"
     ]
    }
   ],
   "execution_count": 22
  },
  {
   "metadata": {
    "ExecuteTime": {
     "end_time": "2024-04-11T09:03:44.159983Z",
     "start_time": "2024-04-11T09:03:21.219991Z"
    }
   },
   "cell_type": "code",
   "source": [
    "from sklearn.ensemble import RandomForestClassifier\n",
    "from sklearn.metrics import accuracy_score, f1_score, recall_score\n",
    "\n",
    "model = RandomForestClassifier(n_jobs=-1)\n",
    "model.fit(X_train, y_train)\n",
    "y_pred = model.predict(X_test)\n",
    "\n",
    "print(accuracy_score(y_test, y_pred), f1_score(y_test, y_pred, average='weighted'), recall_score(y_test, y_pred, average='weighted'))\n"
   ],
   "id": "a8c965fc85b946f4",
   "outputs": [
    {
     "name": "stdout",
     "output_type": "stream",
     "text": [
      "0.6128571428571429 0.605932530968903 0.6128571428571429\n"
     ]
    }
   ],
   "execution_count": 23
  },
  {
   "metadata": {
    "ExecuteTime": {
     "end_time": "2024-04-11T09:08:49.485208Z",
     "start_time": "2024-04-11T09:03:44.160662Z"
    }
   },
   "cell_type": "code",
   "source": [
    "# gradient boosting\n",
    "from sklearn.ensemble import GradientBoostingClassifier\n",
    "from sklearn.metrics import accuracy_score, f1_score, recall_score\n",
    "\n",
    "model = GradientBoostingClassifier()\n",
    "model.fit(X_train, y_train)\n",
    "y_pred = model.predict(X_test)\n",
    "\n",
    "print(accuracy_score(y_test, y_pred), f1_score(y_test, y_pred, average='weighted'), recall_score(y_test, y_pred, average='weighted'))"
   ],
   "id": "b3ae850a82e7df83",
   "outputs": [
    {
     "name": "stdout",
     "output_type": "stream",
     "text": [
      "0.6147142857142858 0.6122517415826021 0.6147142857142858\n"
     ]
    }
   ],
   "execution_count": 24
  }
 ],
 "metadata": {
  "kernelspec": {
   "display_name": "Python 3",
   "language": "python",
   "name": "python3"
  },
  "language_info": {
   "codemirror_mode": {
    "name": "ipython",
    "version": 2
   },
   "file_extension": ".py",
   "mimetype": "text/x-python",
   "name": "python",
   "nbconvert_exporter": "python",
   "pygments_lexer": "ipython2",
   "version": "2.7.6"
  }
 },
 "nbformat": 4,
 "nbformat_minor": 5
}
