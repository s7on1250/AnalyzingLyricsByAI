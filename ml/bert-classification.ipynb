{
 "cells": [
  {
   "cell_type": "code",
   "id": "initial_id",
   "metadata": {
    "collapsed": true,
    "ExecuteTime": {
     "end_time": "2024-04-11T10:48:00.871311Z",
     "start_time": "2024-04-11T10:47:59.579274Z"
    }
   },
   "source": [
    "import os\n",
    "import torch\n",
    "from torch import nn\n",
    "from torch.utils.data import DataLoader, Dataset\n",
    "from torch.nn import functional as F\n",
    "from transformers import BertTokenizer, BertModel, AdamW, get_linear_schedule_with_warmup\n",
    "from sklearn.model_selection import train_test_split\n",
    "from sklearn.metrics import accuracy_score, classification_report\n",
    "import pandas as pd\n",
    "import numpy as np\n",
    "import sys\n",
    "sys.path.insert(0, '../src')\n",
    "from clean_text import text_preprocessing_pipeline\n",
    "from transformers import AutoTokenizer, AutoModel\n",
    "model_name = 'roberta-base'"
   ],
   "outputs": [],
   "execution_count": 1
  },
  {
   "metadata": {
    "ExecuteTime": {
     "end_time": "2024-04-11T10:48:03.289482Z",
     "start_time": "2024-04-11T10:48:00.872328Z"
    }
   },
   "cell_type": "code",
   "source": [
    "df = pd.read_csv(os.getcwd() + '/../data/perfect_dataset.csv')\n",
    "df.head()"
   ],
   "id": "c38875baad8ce982",
   "outputs": [
    {
     "data": {
      "text/plain": [
       "  old_tag                   title_x           artist_x  \\\n",
       "0    rock          Bring Me to Life        Evanescence   \n",
       "1    rock               My Immortal        Evanescence   \n",
       "2    rock                    Zombie         Bad Wolves   \n",
       "3    rock  A Little Piece of Heaven  Avenged Sevenfold   \n",
       "4    rock                  Doomsday         Architects   \n",
       "\n",
       "                                                text   views  \\\n",
       "0  [Verse 1: Amy Lee]\\nHow can you see into my ey...  658884   \n",
       "1  [Verse 1]\\nI'm so tired of being here\\nSuppres...  392209   \n",
       "2  [Verse 1]\\nAnother head hangs lowly\\nChild is ...  342157   \n",
       "3  [Verse 1: M. Shadows]\\nBefore the story begins...  259796   \n",
       "4  [Verse 1]\\nRemember when Hell had frozen over?...  217795   \n",
       "\n",
       "   processed_artist       processed_title    tag           artist_y  \\\n",
       "0       evanescence         bringmetolife  metal        Evanescence   \n",
       "1       evanescence            myimmortal  metal        Evanescence   \n",
       "2         badwolves                zombie  metal         Bad Wolves   \n",
       "3  avengedsevenfold  alittlepieceofheaven  metal  Avenged Sevenfold   \n",
       "4        architects              doomsday  metal         Architects   \n",
       "\n",
       "                    title_y       processed title  \\\n",
       "0          Bring Me To Life         bringmetolife   \n",
       "1               My Immortal            myimmortal   \n",
       "2                    Zombie                zombie   \n",
       "3  A Little Piece of Heaven  alittlepieceofheaven   \n",
       "4                  Doomsday              doomsday   \n",
       "\n",
       "                           artist_title  \n",
       "0              evanescencebringmetolife  \n",
       "1                 evanescencemyimmortal  \n",
       "2                       badwolveszombie  \n",
       "3  avengedsevenfoldalittlepieceofheaven  \n",
       "4                    architectsdoomsday  "
      ],
      "text/html": [
       "<div>\n",
       "<style scoped>\n",
       "    .dataframe tbody tr th:only-of-type {\n",
       "        vertical-align: middle;\n",
       "    }\n",
       "\n",
       "    .dataframe tbody tr th {\n",
       "        vertical-align: top;\n",
       "    }\n",
       "\n",
       "    .dataframe thead th {\n",
       "        text-align: right;\n",
       "    }\n",
       "</style>\n",
       "<table border=\"1\" class=\"dataframe\">\n",
       "  <thead>\n",
       "    <tr style=\"text-align: right;\">\n",
       "      <th></th>\n",
       "      <th>old_tag</th>\n",
       "      <th>title_x</th>\n",
       "      <th>artist_x</th>\n",
       "      <th>text</th>\n",
       "      <th>views</th>\n",
       "      <th>processed_artist</th>\n",
       "      <th>processed_title</th>\n",
       "      <th>tag</th>\n",
       "      <th>artist_y</th>\n",
       "      <th>title_y</th>\n",
       "      <th>processed title</th>\n",
       "      <th>artist_title</th>\n",
       "    </tr>\n",
       "  </thead>\n",
       "  <tbody>\n",
       "    <tr>\n",
       "      <th>0</th>\n",
       "      <td>rock</td>\n",
       "      <td>Bring Me to Life</td>\n",
       "      <td>Evanescence</td>\n",
       "      <td>[Verse 1: Amy Lee]\\nHow can you see into my ey...</td>\n",
       "      <td>658884</td>\n",
       "      <td>evanescence</td>\n",
       "      <td>bringmetolife</td>\n",
       "      <td>metal</td>\n",
       "      <td>Evanescence</td>\n",
       "      <td>Bring Me To Life</td>\n",
       "      <td>bringmetolife</td>\n",
       "      <td>evanescencebringmetolife</td>\n",
       "    </tr>\n",
       "    <tr>\n",
       "      <th>1</th>\n",
       "      <td>rock</td>\n",
       "      <td>My Immortal</td>\n",
       "      <td>Evanescence</td>\n",
       "      <td>[Verse 1]\\nI'm so tired of being here\\nSuppres...</td>\n",
       "      <td>392209</td>\n",
       "      <td>evanescence</td>\n",
       "      <td>myimmortal</td>\n",
       "      <td>metal</td>\n",
       "      <td>Evanescence</td>\n",
       "      <td>My Immortal</td>\n",
       "      <td>myimmortal</td>\n",
       "      <td>evanescencemyimmortal</td>\n",
       "    </tr>\n",
       "    <tr>\n",
       "      <th>2</th>\n",
       "      <td>rock</td>\n",
       "      <td>Zombie</td>\n",
       "      <td>Bad Wolves</td>\n",
       "      <td>[Verse 1]\\nAnother head hangs lowly\\nChild is ...</td>\n",
       "      <td>342157</td>\n",
       "      <td>badwolves</td>\n",
       "      <td>zombie</td>\n",
       "      <td>metal</td>\n",
       "      <td>Bad Wolves</td>\n",
       "      <td>Zombie</td>\n",
       "      <td>zombie</td>\n",
       "      <td>badwolveszombie</td>\n",
       "    </tr>\n",
       "    <tr>\n",
       "      <th>3</th>\n",
       "      <td>rock</td>\n",
       "      <td>A Little Piece of Heaven</td>\n",
       "      <td>Avenged Sevenfold</td>\n",
       "      <td>[Verse 1: M. Shadows]\\nBefore the story begins...</td>\n",
       "      <td>259796</td>\n",
       "      <td>avengedsevenfold</td>\n",
       "      <td>alittlepieceofheaven</td>\n",
       "      <td>metal</td>\n",
       "      <td>Avenged Sevenfold</td>\n",
       "      <td>A Little Piece of Heaven</td>\n",
       "      <td>alittlepieceofheaven</td>\n",
       "      <td>avengedsevenfoldalittlepieceofheaven</td>\n",
       "    </tr>\n",
       "    <tr>\n",
       "      <th>4</th>\n",
       "      <td>rock</td>\n",
       "      <td>Doomsday</td>\n",
       "      <td>Architects</td>\n",
       "      <td>[Verse 1]\\nRemember when Hell had frozen over?...</td>\n",
       "      <td>217795</td>\n",
       "      <td>architects</td>\n",
       "      <td>doomsday</td>\n",
       "      <td>metal</td>\n",
       "      <td>Architects</td>\n",
       "      <td>Doomsday</td>\n",
       "      <td>doomsday</td>\n",
       "      <td>architectsdoomsday</td>\n",
       "    </tr>\n",
       "  </tbody>\n",
       "</table>\n",
       "</div>"
      ]
     },
     "execution_count": 2,
     "metadata": {},
     "output_type": "execute_result"
    }
   ],
   "execution_count": 2
  },
  {
   "metadata": {
    "ExecuteTime": {
     "end_time": "2024-04-11T10:48:03.291568Z",
     "start_time": "2024-04-11T10:48:03.290066Z"
    }
   },
   "cell_type": "code",
   "source": [
    "# # leave only 5000 the most viewed rows in each tag\n",
    "# df = df.groupby('tag').apply(lambda x: x.nlargest(10000, 'views')).reset_index(drop=True)\n",
    "# df.head()"
   ],
   "id": "96291e6bc21715f0",
   "outputs": [],
   "execution_count": 3
  },
  {
   "metadata": {
    "ExecuteTime": {
     "end_time": "2024-04-11T10:48:03.310796Z",
     "start_time": "2024-04-11T10:48:03.292175Z"
    }
   },
   "cell_type": "code",
   "source": "df.shape",
   "id": "3869a098b1677166",
   "outputs": [
    {
     "data": {
      "text/plain": [
       "(175000, 12)"
      ]
     },
     "execution_count": 4,
     "metadata": {},
     "output_type": "execute_result"
    }
   ],
   "execution_count": 4
  },
  {
   "metadata": {
    "ExecuteTime": {
     "end_time": "2024-04-11T10:48:03.340675Z",
     "start_time": "2024-04-11T10:48:03.311884Z"
    }
   },
   "cell_type": "code",
   "source": "df = df.sample(frac=0.2, random_state=42).reset_index(drop=True)",
   "id": "8e6d8e2a38938c46",
   "outputs": [],
   "execution_count": 5
  },
  {
   "metadata": {
    "ExecuteTime": {
     "end_time": "2024-04-11T10:48:03.345838Z",
     "start_time": "2024-04-11T10:48:03.341452Z"
    }
   },
   "cell_type": "code",
   "source": "df.tag.value_counts()",
   "id": "99005d8ba20a727f",
   "outputs": [
    {
     "data": {
      "text/plain": [
       "tag\n",
       "rb       7084\n",
       "pop      7078\n",
       "rap      6956\n",
       "rock     6952\n",
       "metal    6930\n",
       "Name: count, dtype: int64"
      ]
     },
     "execution_count": 6,
     "metadata": {},
     "output_type": "execute_result"
    }
   ],
   "execution_count": 6
  },
  {
   "metadata": {
    "ExecuteTime": {
     "end_time": "2024-04-11T10:48:03.387483Z",
     "start_time": "2024-04-11T10:48:03.379705Z"
    }
   },
   "cell_type": "code",
   "source": [
    "# leave only text and tag columns\n",
    "df = df[['text', 'tag']]\n",
    "df.head()"
   ],
   "id": "61115aa11a91a990",
   "outputs": [
    {
     "data": {
      "text/plain": [
       "                                                text    tag\n",
       "0  [Instrumental intro 0:00-1:03]\\n\\n[Chorus]\\nWi...   rock\n",
       "1  Brother, Brother\\nHelp me please\\nI'm as lonel...   rock\n",
       "2  [Intro: Howard Hewett, Monty Seward]\\nYou know...     rb\n",
       "3  Gazing at the stars\\nWe're flying over million...  metal\n",
       "4  Timeless we are, timeless we are\\nChildren run...  metal"
      ],
      "text/html": [
       "<div>\n",
       "<style scoped>\n",
       "    .dataframe tbody tr th:only-of-type {\n",
       "        vertical-align: middle;\n",
       "    }\n",
       "\n",
       "    .dataframe tbody tr th {\n",
       "        vertical-align: top;\n",
       "    }\n",
       "\n",
       "    .dataframe thead th {\n",
       "        text-align: right;\n",
       "    }\n",
       "</style>\n",
       "<table border=\"1\" class=\"dataframe\">\n",
       "  <thead>\n",
       "    <tr style=\"text-align: right;\">\n",
       "      <th></th>\n",
       "      <th>text</th>\n",
       "      <th>tag</th>\n",
       "    </tr>\n",
       "  </thead>\n",
       "  <tbody>\n",
       "    <tr>\n",
       "      <th>0</th>\n",
       "      <td>[Instrumental intro 0:00-1:03]\\n\\n[Chorus]\\nWi...</td>\n",
       "      <td>rock</td>\n",
       "    </tr>\n",
       "    <tr>\n",
       "      <th>1</th>\n",
       "      <td>Brother, Brother\\nHelp me please\\nI'm as lonel...</td>\n",
       "      <td>rock</td>\n",
       "    </tr>\n",
       "    <tr>\n",
       "      <th>2</th>\n",
       "      <td>[Intro: Howard Hewett, Monty Seward]\\nYou know...</td>\n",
       "      <td>rb</td>\n",
       "    </tr>\n",
       "    <tr>\n",
       "      <th>3</th>\n",
       "      <td>Gazing at the stars\\nWe're flying over million...</td>\n",
       "      <td>metal</td>\n",
       "    </tr>\n",
       "    <tr>\n",
       "      <th>4</th>\n",
       "      <td>Timeless we are, timeless we are\\nChildren run...</td>\n",
       "      <td>metal</td>\n",
       "    </tr>\n",
       "  </tbody>\n",
       "</table>\n",
       "</div>"
      ]
     },
     "execution_count": 7,
     "metadata": {},
     "output_type": "execute_result"
    }
   ],
   "execution_count": 7
  },
  {
   "metadata": {
    "ExecuteTime": {
     "end_time": "2024-04-11T10:48:11.175684Z",
     "start_time": "2024-04-11T10:48:03.500267Z"
    }
   },
   "cell_type": "code",
   "source": [
    "# clean the text\n",
    "df['text'] = df['text'].apply(text_preprocessing_pipeline)\n",
    "df.head()"
   ],
   "id": "365ea9e99e6b9eb1",
   "outputs": [
    {
     "name": "stderr",
     "output_type": "stream",
     "text": [
      "/home/john/DataspellProjects/AnalyzingLyricsByAI/ml/../src/clean_text.py:24: MarkupResemblesLocatorWarning: The input looks more like a filename than markup. You may want to open this file and pass the filehandle into Beautiful Soup.\n",
      "  text = BeautifulSoup(text, 'lxml').get_text()\n"
     ]
    },
    {
     "data": {
      "text/plain": [
       "                                                text    tag\n",
       "0  Will you and your friend come around Are you a...   rock\n",
       "1  Brother , Brother Help me please I'm as lonely...   rock\n",
       "2  You know , Mont' , man , I've been thinking I ...     rb\n",
       "3  Gazing at the stars We're flying over million ...  metal\n",
       "4  Timeless we are , timeless we are Children run...  metal"
      ],
      "text/html": [
       "<div>\n",
       "<style scoped>\n",
       "    .dataframe tbody tr th:only-of-type {\n",
       "        vertical-align: middle;\n",
       "    }\n",
       "\n",
       "    .dataframe tbody tr th {\n",
       "        vertical-align: top;\n",
       "    }\n",
       "\n",
       "    .dataframe thead th {\n",
       "        text-align: right;\n",
       "    }\n",
       "</style>\n",
       "<table border=\"1\" class=\"dataframe\">\n",
       "  <thead>\n",
       "    <tr style=\"text-align: right;\">\n",
       "      <th></th>\n",
       "      <th>text</th>\n",
       "      <th>tag</th>\n",
       "    </tr>\n",
       "  </thead>\n",
       "  <tbody>\n",
       "    <tr>\n",
       "      <th>0</th>\n",
       "      <td>Will you and your friend come around Are you a...</td>\n",
       "      <td>rock</td>\n",
       "    </tr>\n",
       "    <tr>\n",
       "      <th>1</th>\n",
       "      <td>Brother , Brother Help me please I'm as lonely...</td>\n",
       "      <td>rock</td>\n",
       "    </tr>\n",
       "    <tr>\n",
       "      <th>2</th>\n",
       "      <td>You know , Mont' , man , I've been thinking I ...</td>\n",
       "      <td>rb</td>\n",
       "    </tr>\n",
       "    <tr>\n",
       "      <th>3</th>\n",
       "      <td>Gazing at the stars We're flying over million ...</td>\n",
       "      <td>metal</td>\n",
       "    </tr>\n",
       "    <tr>\n",
       "      <th>4</th>\n",
       "      <td>Timeless we are , timeless we are Children run...</td>\n",
       "      <td>metal</td>\n",
       "    </tr>\n",
       "  </tbody>\n",
       "</table>\n",
       "</div>"
      ]
     },
     "execution_count": 8,
     "metadata": {},
     "output_type": "execute_result"
    }
   ],
   "execution_count": 8
  },
  {
   "metadata": {
    "ExecuteTime": {
     "end_time": "2024-04-11T10:48:11.255194Z",
     "start_time": "2024-04-11T10:48:11.252162Z"
    }
   },
   "cell_type": "code",
   "source": [
    "# get distinct tags\n",
    "target_cols = df['tag'].unique()\n",
    "target_cols"
   ],
   "id": "6cceae19b4a4bba9",
   "outputs": [
    {
     "data": {
      "text/plain": [
       "array(['rock', 'rb', 'metal', 'rap', 'pop'], dtype=object)"
      ]
     },
     "execution_count": 9,
     "metadata": {},
     "output_type": "execute_result"
    }
   ],
   "execution_count": 9
  },
  {
   "metadata": {
    "ExecuteTime": {
     "end_time": "2024-04-11T10:48:11.272950Z",
     "start_time": "2024-04-11T10:48:11.255683Z"
    }
   },
   "cell_type": "code",
   "source": [
    "from sklearn.preprocessing import OneHotEncoder\n",
    "encoder = OneHotEncoder()\n",
    "label = encoder.fit_transform(df[['tag']]).toarray()\n",
    "# append one hot encoded label to the dataframe with distinct tags as columns\n",
    "df = pd.concat([df, pd.DataFrame(label, columns=target_cols)], axis=1)\n",
    "df.head()"
   ],
   "id": "6fb63066bccb86e",
   "outputs": [
    {
     "data": {
      "text/plain": [
       "                                                text    tag  rock   rb  metal  \\\n",
       "0  Will you and your friend come around Are you a...   rock   0.0  0.0    0.0   \n",
       "1  Brother , Brother Help me please I'm as lonely...   rock   0.0  0.0    0.0   \n",
       "2  You know , Mont' , man , I've been thinking I ...     rb   0.0  0.0    0.0   \n",
       "3  Gazing at the stars We're flying over million ...  metal   1.0  0.0    0.0   \n",
       "4  Timeless we are , timeless we are Children run...  metal   1.0  0.0    0.0   \n",
       "\n",
       "   rap  pop  \n",
       "0  0.0  1.0  \n",
       "1  0.0  1.0  \n",
       "2  1.0  0.0  \n",
       "3  0.0  0.0  \n",
       "4  0.0  0.0  "
      ],
      "text/html": [
       "<div>\n",
       "<style scoped>\n",
       "    .dataframe tbody tr th:only-of-type {\n",
       "        vertical-align: middle;\n",
       "    }\n",
       "\n",
       "    .dataframe tbody tr th {\n",
       "        vertical-align: top;\n",
       "    }\n",
       "\n",
       "    .dataframe thead th {\n",
       "        text-align: right;\n",
       "    }\n",
       "</style>\n",
       "<table border=\"1\" class=\"dataframe\">\n",
       "  <thead>\n",
       "    <tr style=\"text-align: right;\">\n",
       "      <th></th>\n",
       "      <th>text</th>\n",
       "      <th>tag</th>\n",
       "      <th>rock</th>\n",
       "      <th>rb</th>\n",
       "      <th>metal</th>\n",
       "      <th>rap</th>\n",
       "      <th>pop</th>\n",
       "    </tr>\n",
       "  </thead>\n",
       "  <tbody>\n",
       "    <tr>\n",
       "      <th>0</th>\n",
       "      <td>Will you and your friend come around Are you a...</td>\n",
       "      <td>rock</td>\n",
       "      <td>0.0</td>\n",
       "      <td>0.0</td>\n",
       "      <td>0.0</td>\n",
       "      <td>0.0</td>\n",
       "      <td>1.0</td>\n",
       "    </tr>\n",
       "    <tr>\n",
       "      <th>1</th>\n",
       "      <td>Brother , Brother Help me please I'm as lonely...</td>\n",
       "      <td>rock</td>\n",
       "      <td>0.0</td>\n",
       "      <td>0.0</td>\n",
       "      <td>0.0</td>\n",
       "      <td>0.0</td>\n",
       "      <td>1.0</td>\n",
       "    </tr>\n",
       "    <tr>\n",
       "      <th>2</th>\n",
       "      <td>You know , Mont' , man , I've been thinking I ...</td>\n",
       "      <td>rb</td>\n",
       "      <td>0.0</td>\n",
       "      <td>0.0</td>\n",
       "      <td>0.0</td>\n",
       "      <td>1.0</td>\n",
       "      <td>0.0</td>\n",
       "    </tr>\n",
       "    <tr>\n",
       "      <th>3</th>\n",
       "      <td>Gazing at the stars We're flying over million ...</td>\n",
       "      <td>metal</td>\n",
       "      <td>1.0</td>\n",
       "      <td>0.0</td>\n",
       "      <td>0.0</td>\n",
       "      <td>0.0</td>\n",
       "      <td>0.0</td>\n",
       "    </tr>\n",
       "    <tr>\n",
       "      <th>4</th>\n",
       "      <td>Timeless we are , timeless we are Children run...</td>\n",
       "      <td>metal</td>\n",
       "      <td>1.0</td>\n",
       "      <td>0.0</td>\n",
       "      <td>0.0</td>\n",
       "      <td>0.0</td>\n",
       "      <td>0.0</td>\n",
       "    </tr>\n",
       "  </tbody>\n",
       "</table>\n",
       "</div>"
      ]
     },
     "execution_count": 10,
     "metadata": {},
     "output_type": "execute_result"
    }
   ],
   "execution_count": 10
  },
  {
   "metadata": {
    "ExecuteTime": {
     "end_time": "2024-04-11T10:48:11.280911Z",
     "start_time": "2024-04-11T10:48:11.273452Z"
    }
   },
   "cell_type": "code",
   "source": [
    "# split the data into training and validation\n",
    "df.drop(columns=['tag'], inplace=True)\n",
    "# reset the index\n",
    "df.reset_index(drop=True, inplace=True)\n",
    "\n",
    "df_train, df_val = train_test_split(df, test_size=0.2, random_state=42)\n",
    "df_train.shape, df_val.shape"
   ],
   "id": "a8ce6d085190e3f5",
   "outputs": [
    {
     "data": {
      "text/plain": [
       "((28000, 6), (7000, 6))"
      ]
     },
     "execution_count": 11,
     "metadata": {},
     "output_type": "execute_result"
    }
   ],
   "execution_count": 11
  },
  {
   "metadata": {
    "ExecuteTime": {
     "end_time": "2024-04-11T10:48:11.284323Z",
     "start_time": "2024-04-11T10:48:11.281439Z"
    }
   },
   "cell_type": "code",
   "source": [
    "df_train = df_train.reset_index(drop=True)\n",
    "df_val = df_val.reset_index(drop=True)"
   ],
   "id": "3e6adf8fb553d38",
   "outputs": [],
   "execution_count": 12
  },
  {
   "metadata": {
    "ExecuteTime": {
     "end_time": "2024-04-11T10:48:11.839709Z",
     "start_time": "2024-04-11T10:48:11.285363Z"
    }
   },
   "cell_type": "code",
   "source": [
    "# Defining some key variables that will be used later on in the training\n",
    "MAX_LEN = 200\n",
    "TRAIN_BATCH_SIZE = 64\n",
    "VALID_BATCH_SIZE = 64\n",
    "EPOCHS = 1\n",
    "LEARNING_RATE = 1e-5\n",
    "tokenizer = AutoTokenizer.from_pretrained(model_name)"
   ],
   "id": "d2612b26b0b70901",
   "outputs": [],
   "execution_count": 13
  },
  {
   "metadata": {
    "ExecuteTime": {
     "end_time": "2024-04-11T10:48:11.843769Z",
     "start_time": "2024-04-11T10:48:11.840511Z"
    }
   },
   "cell_type": "code",
   "source": [
    "class BERTDataset(Dataset):\n",
    "    def __init__(self, df, tokenizer, max_len):\n",
    "        self.df = df\n",
    "        self.max_len = max_len\n",
    "        self.text = df.text\n",
    "        self.tokenizer = tokenizer\n",
    "        self.targets = df[target_cols].values\n",
    "\n",
    "    def __len__(self):\n",
    "        return len(self.df)\n",
    "\n",
    "    def __getitem__(self, index):\n",
    "        text = self.text[index]\n",
    "        inputs = self.tokenizer.encode_plus(\n",
    "            text,\n",
    "            truncation=True,\n",
    "            add_special_tokens=True,\n",
    "            max_length=self.max_len,\n",
    "            padding='max_length',\n",
    "            return_token_type_ids=True\n",
    "        )\n",
    "        ids = inputs['input_ids']\n",
    "        mask = inputs['attention_mask']\n",
    "        token_type_ids = inputs[\"token_type_ids\"]\n",
    "\n",
    "        return {\n",
    "            'ids': torch.tensor(ids, dtype=torch.long),\n",
    "            'mask': torch.tensor(mask, dtype=torch.long),\n",
    "            'token_type_ids': torch.tensor(token_type_ids, dtype=torch.long),\n",
    "            'targets': torch.tensor(self.targets[index], dtype=torch.float)\n",
    "        }"
   ],
   "id": "2251f9da1fa1dcfc",
   "outputs": [],
   "execution_count": 14
  },
  {
   "metadata": {
    "ExecuteTime": {
     "end_time": "2024-04-11T10:48:11.866779Z",
     "start_time": "2024-04-11T10:48:11.844323Z"
    }
   },
   "cell_type": "code",
   "source": [
    "train_dataset = BERTDataset(df_train, tokenizer, MAX_LEN)\n",
    "valid_dataset = BERTDataset(df_val, tokenizer, MAX_LEN)"
   ],
   "id": "ed2a84bc11dda40d",
   "outputs": [],
   "execution_count": 15
  },
  {
   "metadata": {
    "ExecuteTime": {
     "end_time": "2024-04-11T10:48:11.879932Z",
     "start_time": "2024-04-11T10:48:11.867390Z"
    }
   },
   "cell_type": "code",
   "source": [
    "train_loader = DataLoader(train_dataset, batch_size=TRAIN_BATCH_SIZE, \n",
    "                          num_workers=4, shuffle=True, pin_memory=True)\n",
    "valid_loader = DataLoader(valid_dataset, batch_size=VALID_BATCH_SIZE, \n",
    "                          num_workers=4, shuffle=False, pin_memory=True)"
   ],
   "id": "a995d71141d2ec29",
   "outputs": [],
   "execution_count": 16
  },
  {
   "metadata": {
    "ExecuteTime": {
     "end_time": "2024-04-11T10:48:11.964061Z",
     "start_time": "2024-04-11T10:48:11.880648Z"
    }
   },
   "cell_type": "code",
   "source": [
    "device = torch.device('cuda' if torch.cuda.is_available() else 'cpu')\n",
    "device"
   ],
   "id": "29f2a634ce06ef6e",
   "outputs": [
    {
     "data": {
      "text/plain": [
       "device(type='cuda')"
      ]
     },
     "execution_count": 17,
     "metadata": {},
     "output_type": "execute_result"
    }
   ],
   "execution_count": 17
  },
  {
   "metadata": {
    "ExecuteTime": {
     "end_time": "2024-04-11T10:48:11.968465Z",
     "start_time": "2024-04-11T10:48:11.964951Z"
    }
   },
   "cell_type": "code",
   "source": [
    "class BERTClass(torch.nn.Module):\n",
    "    def __init__(self):\n",
    "        super(BERTClass, self).__init__()\n",
    "        self.roberta = AutoModel.from_pretrained(model_name)\n",
    "        # self.l2 = torch.nn.Dropout(0.3)\n",
    "        # self.l1 = torch.nn.Linear(768, 256)\n",
    "        self.fc = torch.nn.Linear(768,5)\n",
    "    \n",
    "    def forward(self, ids, mask, token_type_ids):\n",
    "        _, features = self.roberta(ids, attention_mask = mask, token_type_ids = token_type_ids, return_dict=False)\n",
    "        #features = F.relu(self.l1(features))\n",
    "        # output_2 = self.l2(output_1)\n",
    "        output = F.softmax(self.fc(features), dim=1)\n",
    "        return output\n"
   ],
   "id": "229ba360f918e57c",
   "outputs": [],
   "execution_count": 18
  },
  {
   "metadata": {
    "ExecuteTime": {
     "end_time": "2024-04-10T21:02:55.663387Z",
     "start_time": "2024-04-10T21:02:55.103518Z"
    }
   },
   "cell_type": "code",
   "source": [
    "model = BERTClass()\n",
    "model.to(device);"
   ],
   "id": "bb90182149ed2d07",
   "outputs": [
    {
     "name": "stderr",
     "output_type": "stream",
     "text": [
      "Some weights of RobertaModel were not initialized from the model checkpoint at roberta-base and are newly initialized: ['roberta.pooler.dense.bias', 'roberta.pooler.dense.weight']\n",
      "You should probably TRAIN this model on a down-stream task to be able to use it for predictions and inference.\n"
     ]
    }
   ],
   "execution_count": 19
  },
  {
   "metadata": {
    "ExecuteTime": {
     "end_time": "2024-04-10T21:00:24.394600Z",
     "start_time": "2024-04-10T21:00:24.391502Z"
    }
   },
   "cell_type": "code",
   "source": [
    "def loss_fn(outputs, targets):\n",
    "    return torch.nn.CrossEntropyLoss()(outputs, targets)"
   ],
   "id": "fb68a308cbd5fe61",
   "outputs": [],
   "execution_count": 20
  },
  {
   "metadata": {
    "ExecuteTime": {
     "end_time": "2024-04-10T21:00:25.235561Z",
     "start_time": "2024-04-10T21:00:24.796478Z"
    }
   },
   "cell_type": "code",
   "source": "optimizer = torch.optim.AdamW(params =  model.parameters(), lr=LEARNING_RATE, weight_decay=1e-6)",
   "id": "13194607b229d646",
   "outputs": [],
   "execution_count": 21
  },
  {
   "metadata": {
    "ExecuteTime": {
     "end_time": "2024-04-10T08:11:24.511456Z",
     "start_time": "2024-04-10T08:11:24.507046Z"
    }
   },
   "cell_type": "code",
   "source": [
    "def train(epoch):\n",
    "    model.train()\n",
    "    for _,data in enumerate(train_loader, 0):\n",
    "        ids = data['ids'].to(device, dtype = torch.long)\n",
    "        mask = data['mask'].to(device, dtype = torch.long)\n",
    "        token_type_ids = data['token_type_ids'].to(device, dtype = torch.long)\n",
    "        targets = data['targets'].to(device, dtype = torch.float)\n",
    "\n",
    "        outputs = model(ids, mask, token_type_ids)\n",
    "\n",
    "        loss = loss_fn(outputs, targets)\n",
    "        if _%40 == 0:\n",
    "            print(f'Epoch: {epoch}, Loss:  {loss.item()}, processed: {_/len(train_loader)*100}%')\n",
    "            \n",
    "        \n",
    "        loss.backward()\n",
    "        optimizer.step()\n",
    "        optimizer.zero_grad()"
   ],
   "id": "b1a7d3a75fd24052",
   "outputs": [],
   "execution_count": 24
  },
  {
   "metadata": {
    "ExecuteTime": {
     "end_time": "2024-04-09T21:20:44.559470Z",
     "start_time": "2024-04-09T21:00:51.274024Z"
    }
   },
   "cell_type": "code",
   "source": [
    "for epoch in range(EPOCHS):\n",
    "    train(epoch)"
   ],
   "id": "3529b77d09017706",
   "outputs": [
    {
     "name": "stdout",
     "output_type": "stream",
     "text": [
      "Epoch: 0, Loss:  1.61452317237854, processed: 0.0%\n",
      "Epoch: 0, Loss:  1.4731566905975342, processed: 1.8281535648994516%\n",
      "Epoch: 0, Loss:  1.3687974214553833, processed: 3.656307129798903%\n",
      "Epoch: 0, Loss:  1.4304747581481934, processed: 5.484460694698354%\n",
      "Epoch: 0, Loss:  1.3212275505065918, processed: 7.312614259597806%\n",
      "Epoch: 0, Loss:  1.423586368560791, processed: 9.140767824497258%\n",
      "Epoch: 0, Loss:  1.316751480102539, processed: 10.968921389396709%\n",
      "Epoch: 0, Loss:  1.3756523132324219, processed: 12.79707495429616%\n",
      "Epoch: 0, Loss:  1.4027636051177979, processed: 14.625228519195613%\n",
      "Epoch: 0, Loss:  1.3191922903060913, processed: 16.453382084095065%\n",
      "Epoch: 0, Loss:  1.3306267261505127, processed: 18.281535648994517%\n",
      "Epoch: 0, Loss:  1.313887357711792, processed: 20.109689213893965%\n",
      "Epoch: 0, Loss:  1.2775206565856934, processed: 21.937842778793417%\n",
      "Epoch: 0, Loss:  1.2635624408721924, processed: 23.76599634369287%\n",
      "Epoch: 0, Loss:  1.2965726852416992, processed: 25.59414990859232%\n",
      "Epoch: 0, Loss:  1.3728828430175781, processed: 27.422303473491773%\n",
      "Epoch: 0, Loss:  1.3609672784805298, processed: 29.250457038391225%\n",
      "Epoch: 0, Loss:  1.2765045166015625, processed: 31.078610603290674%\n",
      "Epoch: 0, Loss:  1.283006191253662, processed: 32.90676416819013%\n",
      "Epoch: 0, Loss:  1.339731216430664, processed: 34.73491773308958%\n",
      "Epoch: 0, Loss:  1.27351975440979, processed: 36.56307129798903%\n",
      "Epoch: 0, Loss:  1.3887178897857666, processed: 38.391224862888485%\n",
      "Epoch: 0, Loss:  1.3199868202209473, processed: 40.21937842778793%\n",
      "Epoch: 0, Loss:  1.2423810958862305, processed: 42.04753199268739%\n",
      "Epoch: 0, Loss:  1.2613319158554077, processed: 43.875685557586834%\n",
      "Epoch: 0, Loss:  1.2307045459747314, processed: 45.703839122486286%\n",
      "Epoch: 0, Loss:  1.3041138648986816, processed: 47.53199268738574%\n",
      "Epoch: 0, Loss:  1.3427083492279053, processed: 49.36014625228519%\n",
      "Epoch: 0, Loss:  1.2786154747009277, processed: 51.18829981718464%\n",
      "Epoch: 0, Loss:  1.3007009029388428, processed: 53.016453382084094%\n",
      "Epoch: 0, Loss:  1.303206205368042, processed: 54.844606946983546%\n",
      "Epoch: 0, Loss:  1.3341103792190552, processed: 56.672760511883006%\n",
      "Epoch: 0, Loss:  1.274144172668457, processed: 58.50091407678245%\n",
      "Epoch: 0, Loss:  1.2764495611190796, processed: 60.3290676416819%\n",
      "Epoch: 0, Loss:  1.3356735706329346, processed: 62.15722120658135%\n",
      "Epoch: 0, Loss:  1.2405836582183838, processed: 63.98537477148081%\n",
      "Epoch: 0, Loss:  1.2322337627410889, processed: 65.81352833638026%\n",
      "Epoch: 0, Loss:  1.3467769622802734, processed: 67.64168190127971%\n",
      "Epoch: 0, Loss:  1.3102967739105225, processed: 69.46983546617916%\n",
      "Epoch: 0, Loss:  1.250248908996582, processed: 71.29798903107861%\n",
      "Epoch: 0, Loss:  1.2931146621704102, processed: 73.12614259597807%\n",
      "Epoch: 0, Loss:  1.3531739711761475, processed: 74.9542961608775%\n",
      "Epoch: 0, Loss:  1.331429123878479, processed: 76.78244972577697%\n",
      "Epoch: 0, Loss:  1.3687527179718018, processed: 78.61060329067642%\n",
      "Epoch: 0, Loss:  1.2419641017913818, processed: 80.43875685557586%\n",
      "Epoch: 0, Loss:  1.2397878170013428, processed: 82.26691042047533%\n",
      "Epoch: 0, Loss:  1.3216009140014648, processed: 84.09506398537478%\n",
      "Epoch: 0, Loss:  1.2568070888519287, processed: 85.92321755027422%\n",
      "Epoch: 0, Loss:  1.3209093809127808, processed: 87.75137111517367%\n",
      "Epoch: 0, Loss:  1.3390642404556274, processed: 89.57952468007313%\n",
      "Epoch: 0, Loss:  1.318070888519287, processed: 91.40767824497257%\n"
     ]
    },
    {
     "name": "stderr",
     "output_type": "stream",
     "text": [
      "\n",
      "KeyboardInterrupt\n",
      "\n"
     ]
    }
   ],
   "execution_count": 23
  },
  {
   "metadata": {
    "ExecuteTime": {
     "end_time": "2024-04-11T10:48:26.018498Z",
     "start_time": "2024-04-11T10:48:26.014928Z"
    }
   },
   "cell_type": "code",
   "source": [
    "def validation():\n",
    "    model.eval()\n",
    "    fin_targets=[]\n",
    "    fin_outputs=[]\n",
    "    with torch.no_grad():\n",
    "        for _, data in enumerate(valid_loader, 0):\n",
    "            ids = data['ids'].to(device, dtype = torch.long)\n",
    "            mask = data['mask'].to(device, dtype = torch.long)\n",
    "            token_type_ids = data['token_type_ids'].to(device, dtype = torch.long)\n",
    "            targets = data['targets'].to(device, dtype = torch.float)\n",
    "            outputs = model(ids, mask, token_type_ids)\n",
    "            fin_targets.extend(targets.cpu().detach().numpy().tolist())\n",
    "            fin_outputs.extend(torch.sigmoid(outputs).cpu().detach().numpy().tolist())\n",
    "    return fin_outputs, fin_targets"
   ],
   "id": "84f59289a7bb81b",
   "outputs": [],
   "execution_count": 20
  },
  {
   "metadata": {
    "ExecuteTime": {
     "end_time": "2024-04-11T10:49:11.703438Z",
     "start_time": "2024-04-11T10:48:26.133807Z"
    }
   },
   "cell_type": "code",
   "source": [
    "from sklearn import metrics\n",
    "\n",
    "outputs, targets = validation()\n",
    "outputs_decoded = np.argmax(outputs, axis=1)\n",
    "targets_decoded = np.argmax(targets, axis=1)\n",
    "accuracy = metrics.accuracy_score(targets_decoded, outputs_decoded)\n",
    "f1_score_micro = metrics.f1_score(targets_decoded, outputs_decoded, average='micro')\n",
    "f1_score_macro = metrics.f1_score(targets_decoded, outputs_decoded, average='macro')\n",
    "print(f\"Accuracy Score = {accuracy}\")\n",
    "print(f\"F1 Score (Micro) = {f1_score_micro}\")\n",
    "print(f\"F1 Score (Macro) = {f1_score_macro}\")"
   ],
   "id": "ba7125d63d1a3c21",
   "outputs": [
    {
     "name": "stdout",
     "output_type": "stream",
     "text": [
      "Accuracy Score = 0.7477142857142857\n",
      "F1 Score (Micro) = 0.7477142857142857\n",
      "F1 Score (Macro) = 0.7446549560302985\n"
     ]
    }
   ],
   "execution_count": 21
  },
  {
   "metadata": {
    "ExecuteTime": {
     "end_time": "2024-04-11T10:49:11.715214Z",
     "start_time": "2024-04-11T10:49:11.704233Z"
    }
   },
   "cell_type": "code",
   "source": "print(classification_report(targets_decoded, outputs_decoded, target_names=target_cols))",
   "id": "9e96abc75a0b54f0",
   "outputs": [
    {
     "name": "stdout",
     "output_type": "stream",
     "text": [
      "              precision    recall  f1-score   support\n",
      "\n",
      "        rock       0.83      0.90      0.86      1420\n",
      "          rb       0.67      0.64      0.65      1387\n",
      "       metal       0.86      0.83      0.85      1426\n",
      "         rap       0.77      0.59      0.67      1360\n",
      "         pop       0.63      0.78      0.69      1407\n",
      "\n",
      "    accuracy                           0.75      7000\n",
      "   macro avg       0.75      0.75      0.74      7000\n",
      "weighted avg       0.75      0.75      0.75      7000\n",
      "\n"
     ]
    }
   ],
   "execution_count": 22
  },
  {
   "metadata": {
    "ExecuteTime": {
     "end_time": "2024-04-08T22:59:47.055183Z",
     "start_time": "2024-04-08T22:59:46.681478Z"
    }
   },
   "cell_type": "code",
   "source": "torch.save(model.state_dict(), 'model.bin')",
   "id": "7cc9924add9839f",
   "outputs": [],
   "execution_count": 61
  },
  {
   "metadata": {},
   "cell_type": "markdown",
   "source": "## Load the model",
   "id": "b8b37505dcc95373"
  },
  {
   "metadata": {
    "ExecuteTime": {
     "end_time": "2024-04-11T10:48:16.831736Z",
     "start_time": "2024-04-11T10:48:16.072422Z"
    }
   },
   "cell_type": "code",
   "source": [
    "model = BERTClass()\n",
    "model.load_state_dict(torch.load(os.getcwd() + '/../model/model4.bin'))\n",
    "model.to(device)"
   ],
   "id": "4523c4fa163586e2",
   "outputs": [
    {
     "name": "stderr",
     "output_type": "stream",
     "text": [
      "Some weights of RobertaModel were not initialized from the model checkpoint at roberta-base and are newly initialized: ['roberta.pooler.dense.bias', 'roberta.pooler.dense.weight']\n",
      "You should probably TRAIN this model on a down-stream task to be able to use it for predictions and inference.\n"
     ]
    },
    {
     "data": {
      "text/plain": [
       "BERTClass(\n",
       "  (roberta): RobertaModel(\n",
       "    (embeddings): RobertaEmbeddings(\n",
       "      (word_embeddings): Embedding(50265, 768, padding_idx=1)\n",
       "      (position_embeddings): Embedding(514, 768, padding_idx=1)\n",
       "      (token_type_embeddings): Embedding(1, 768)\n",
       "      (LayerNorm): LayerNorm((768,), eps=1e-05, elementwise_affine=True)\n",
       "      (dropout): Dropout(p=0.1, inplace=False)\n",
       "    )\n",
       "    (encoder): RobertaEncoder(\n",
       "      (layer): ModuleList(\n",
       "        (0-11): 12 x RobertaLayer(\n",
       "          (attention): RobertaAttention(\n",
       "            (self): RobertaSelfAttention(\n",
       "              (query): Linear(in_features=768, out_features=768, bias=True)\n",
       "              (key): Linear(in_features=768, out_features=768, bias=True)\n",
       "              (value): Linear(in_features=768, out_features=768, bias=True)\n",
       "              (dropout): Dropout(p=0.1, inplace=False)\n",
       "            )\n",
       "            (output): RobertaSelfOutput(\n",
       "              (dense): Linear(in_features=768, out_features=768, bias=True)\n",
       "              (LayerNorm): LayerNorm((768,), eps=1e-05, elementwise_affine=True)\n",
       "              (dropout): Dropout(p=0.1, inplace=False)\n",
       "            )\n",
       "          )\n",
       "          (intermediate): RobertaIntermediate(\n",
       "            (dense): Linear(in_features=768, out_features=3072, bias=True)\n",
       "            (intermediate_act_fn): GELUActivation()\n",
       "          )\n",
       "          (output): RobertaOutput(\n",
       "            (dense): Linear(in_features=3072, out_features=768, bias=True)\n",
       "            (LayerNorm): LayerNorm((768,), eps=1e-05, elementwise_affine=True)\n",
       "            (dropout): Dropout(p=0.1, inplace=False)\n",
       "          )\n",
       "        )\n",
       "      )\n",
       "    )\n",
       "    (pooler): RobertaPooler(\n",
       "      (dense): Linear(in_features=768, out_features=768, bias=True)\n",
       "      (activation): Tanh()\n",
       "    )\n",
       "  )\n",
       "  (fc): Linear(in_features=768, out_features=5, bias=True)\n",
       ")"
      ]
     },
     "execution_count": 19,
     "metadata": {},
     "output_type": "execute_result"
    }
   ],
   "execution_count": 19
  },
  {
   "metadata": {
    "ExecuteTime": {
     "end_time": "2024-04-11T10:52:43.036831Z",
     "start_time": "2024-04-11T10:52:43.033419Z"
    }
   },
   "cell_type": "code",
   "source": [
    "import seaborn as sns\n",
    "import matplotlib.pyplot as plt\n",
    "\n",
    "def set_palette():\n",
    "    # custom palette\n",
    "    custom_colors = [\"#fe6053\", \"#b3637c\", \"#fecedc\", \"#333030\"]\n",
    "    custom_palette = sns.color_palette(custom_colors)\n",
    "    sns.set(font_scale=1)\n",
    "    sns.set_palette(custom_palette)\n",
    "\n",
    "set_palette()"
   ],
   "id": "d87e406f325b718e",
   "outputs": [],
   "execution_count": 29
  },
  {
   "metadata": {
    "ExecuteTime": {
     "end_time": "2024-04-11T10:49:23.433013Z",
     "start_time": "2024-04-11T10:49:23.431317Z"
    }
   },
   "cell_type": "code",
   "source": [
    "from sklearn.metrics import confusion_matrix\n",
    "\n",
    "# outputs, target = validation()"
   ],
   "id": "18655123db5f5a42",
   "outputs": [],
   "execution_count": 27
  },
  {
   "metadata": {
    "ExecuteTime": {
     "end_time": "2024-04-11T11:26:32.809397Z",
     "start_time": "2024-04-11T11:26:32.608859Z"
    }
   },
   "cell_type": "code",
   "source": [
    "cm = confusion_matrix(targets_decoded,outputs_decoded)\n",
    "\n",
    "sns.heatmap(cm,\n",
    "    annot=True,\n",
    "    fmt='g',\n",
    "    xticklabels=target_cols,\n",
    "    yticklabels=target_cols,\n",
    "    )\n",
    "\n",
    "plt.xlabel('Predicted')\n",
    "plt.ylabel('Actual')\n",
    "plt.title('Roberta Confusion Matrix')\n",
    "# change background color of the plot\n",
    "plt.gcf().set_facecolor('#f0e4dd')\n",
    "plt.savefig(os.getcwd() + '/../eda/roberta_cm.png')"
   ],
   "id": "e208adf83fba20d8",
   "outputs": [
    {
     "data": {
      "text/plain": [
       "<Figure size 640x480 with 2 Axes>"
      ],
      "image/png": "[encoded data removed]"
     },
     "metadata": {},
     "output_type": "display_data"
    }
   ],
   "execution_count": 33
  },
  {
   "metadata": {
    "ExecuteTime": {
     "end_time": "2024-04-08T19:45:40.203356Z",
     "start_time": "2024-04-08T19:45:40.199835Z"
    }
   },
   "cell_type": "code",
   "source": [
    "def predict(text):\n",
    "    model.eval()\n",
    "    inputs = tokenizer.encode_plus(\n",
    "        text,\n",
    "        truncation=True,\n",
    "        add_special_tokens=True,\n",
    "        max_length=MAX_LEN,\n",
    "        padding='max_length',\n",
    "        return_token_type_ids=True\n",
    "    )\n",
    "    ids = torch.tensor(inputs['input_ids'], dtype=torch.long).unsqueeze(0).to(device)\n",
    "    mask = torch.tensor(inputs['attention_mask'], dtype=torch.long).unsqueeze(0).to(device)\n",
    "    token_type_ids = torch.tensor(inputs[\"token_type_ids\"], dtype=torch.long).unsqueeze(0).to(device)\n",
    "    outputs = model(ids, mask, token_type_ids)\n",
    "    outputs = torch.sigmoid(outputs).cpu().detach().numpy()\n",
    "    return outputs"
   ],
   "id": "ca24a70273fd0fab",
   "outputs": [],
   "execution_count": 30
  },
  {
   "metadata": {
    "ExecuteTime": {
     "end_time": "2024-04-08T19:46:48.167967Z",
     "start_time": "2024-04-08T19:46:48.164985Z"
    }
   },
   "cell_type": "code",
   "source": [
    "text = '''When marimba rhythms start to play\n",
    "Dance with me, make me sway\n",
    "Like a lazy ocean hugs the shore\n",
    "Hold me close, sway me more\n",
    "Like a flower bending in the breeze\n",
    "Bend with me, sway with ease\n",
    "When we dance you have a way with me\n",
    "Stay with me, sway with me\n",
    "Other dancers may be on the floor\n",
    "Dear, but my eyes will see only you\n",
    "Only you have that magic technique\n",
    "When we sway I go weak- Через финальную модель прогоню тексты и получу векторы, наложу PCA, построю графики \n",
    "I can hear the sounds of violins\n",
    "Long before it begins\n",
    "Make me thrill as only you know how\n",
    "Sway me smooth, sway me now\n",
    "Other dancers may be on the floor\n",
    "Dear, but my eyes will see only you\n",
    "Only you have that magic technique\n",
    "When we sway I grow weak\n",
    "I can hear the sounds of violins\n",
    "Long before it begins\n",
    "Make me thrill as only you know how\n",
    "Sway me smooth, sway me now\n",
    "When marimba rhythms start to play\n",
    "Dance with me, make me sway\n",
    "Like a lazy ocean hugs the shore\n",
    "Hold me close, sway me more\n",
    "Like a flower bending in the breeze\n",
    "Bend with me, sway with ease\n",
    "When we dance you have a way with me\n",
    "Stay with me, sway with me\n",
    "When marimba start to play\n",
    "Hold me close, make me sway\n",
    "Like a ocean hugs the shore\n",
    "Hold me close, sway me more\n",
    "Like a flower bending in the breeze\n",
    "Bend with me, sway with ease\n",
    "When we dance you have a way with me\n",
    "Stay with me, sway with me'''"
   ],
   "id": "8cb7fa9c10f7dcb8",
   "outputs": [],
   "execution_count": 33
  },
  {
   "metadata": {
    "ExecuteTime": {
     "end_time": "2024-04-08T19:46:48.871999Z",
     "start_time": "2024-04-08T19:46:48.850920Z"
    }
   },
   "cell_type": "code",
   "source": [
    "outputs = predict(text)\n",
    "outputs_max = np.argmax(outputs)\n",
    "target_cols[outputs_max]\n"
   ],
   "id": "428e88a22bbf0b89",
   "outputs": [
    {
     "data": {
      "text/plain": [
       "'rb'"
      ]
     },
     "execution_count": 34,
     "metadata": {},
     "output_type": "execute_result"
    }
   ],
   "execution_count": 34
  },
  {
   "metadata": {},
   "cell_type": "code",
   "source": "# test = df_val.iloc[:10]",
   "id": "26a8482e821f8778",
   "outputs": [],
   "execution_count": null
  },
  {
   "metadata": {},
   "cell_type": "code",
   "source": "# i = 2",
   "id": "e37a94b34f633be7",
   "outputs": [],
   "execution_count": null
  },
  {
   "metadata": {},
   "cell_type": "code",
   "source": "# test.iloc[i].text",
   "id": "b752da6fb26f8cc9",
   "outputs": [],
   "execution_count": null
  },
  {
   "metadata": {},
   "cell_type": "code",
   "source": "# test.iloc[i]",
   "id": "d42ab65d17d42a",
   "outputs": [],
   "execution_count": null
  },
  {
   "metadata": {},
   "cell_type": "code",
   "source": [
    "# for text in test.text:\n",
    "#     outputs = predict(text)\n",
    "#     outputs_max = np.argmax(outputs)\n",
    "#     tag = target_cols[outputs_max]\n",
    "#     print(outputs)\n",
    "#     print(f\"Predicted Tag: {tag}\")\n",
    "#     print()\n"
   ],
   "id": "452777d425bd8995",
   "outputs": [],
   "execution_count": null
  }
 ],
 "metadata": {
  "kernelspec": {
   "display_name": "Python 3",
   "language": "python",
   "name": "python3"
  },
  "language_info": {
   "codemirror_mode": {
    "name": "ipython",
    "version": 2
   },
   "file_extension": ".py",
   "mimetype": "text/x-python",
   "name": "python",
   "nbconvert_exporter": "python",
   "pygments_lexer": "ipython2",
   "version": "2.7.6"
  }
 },
 "nbformat": 4,
 "nbformat_minor": 5
}
