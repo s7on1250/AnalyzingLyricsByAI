{
 "cells": [
  {
   "cell_type": "code",
   "id": "initial_id",
   "metadata": {
    "collapsed": true,
    "ExecuteTime": {
     "end_time": "2024-04-08T06:45:16.649335Z",
     "start_time": "2024-04-08T06:45:15.148441Z"
    }
   },
   "source": [
    "import os\n",
    "import torch\n",
    "from torch import nn\n",
    "from torch.utils.data import DataLoader, Dataset\n",
    "from transformers import BertTokenizer, BertModel, AdamW, get_linear_schedule_with_warmup\n",
    "from sklearn.model_selection import train_test_split\n",
    "from sklearn.metrics import accuracy_score, classification_report\n",
    "import pandas as pd\n",
    "import numpy as np"
   ],
   "outputs": [],
   "execution_count": 1
  },
  {
   "metadata": {
    "ExecuteTime": {
     "end_time": "2024-04-08T06:45:22.275862Z",
     "start_time": "2024-04-08T06:45:18.158445Z"
    }
   },
   "cell_type": "code",
   "source": [
    "df = pd.read_csv('good_quality.csv')\n",
    "df.head()"
   ],
   "id": "c38875baad8ce982",
   "outputs": [
    {
     "data": {
      "text/plain": [
       "                                                text  tag\n",
       "0  killa cam , killa cam , camkilla cam , killa c...  rap\n",
       "1  yeah , hah , yeah , roc a fellawe invite you t...  rap\n",
       "2  ugh , killa baby kanye , this that heron flow ...  rap\n",
       "3  so they ask me young boywhat you gon ' do the ...  rap\n",
       "4  hahauh huhno homo young mula , baby i say , he...  rap"
      ],
      "text/html": [
       "<div>\n",
       "<style scoped>\n",
       "    .dataframe tbody tr th:only-of-type {\n",
       "        vertical-align: middle;\n",
       "    }\n",
       "\n",
       "    .dataframe tbody tr th {\n",
       "        vertical-align: top;\n",
       "    }\n",
       "\n",
       "    .dataframe thead th {\n",
       "        text-align: right;\n",
       "    }\n",
       "</style>\n",
       "<table border=\"1\" class=\"dataframe\">\n",
       "  <thead>\n",
       "    <tr style=\"text-align: right;\">\n",
       "      <th></th>\n",
       "      <th>text</th>\n",
       "      <th>tag</th>\n",
       "    </tr>\n",
       "  </thead>\n",
       "  <tbody>\n",
       "    <tr>\n",
       "      <th>0</th>\n",
       "      <td>killa cam , killa cam , camkilla cam , killa c...</td>\n",
       "      <td>rap</td>\n",
       "    </tr>\n",
       "    <tr>\n",
       "      <th>1</th>\n",
       "      <td>yeah , hah , yeah , roc a fellawe invite you t...</td>\n",
       "      <td>rap</td>\n",
       "    </tr>\n",
       "    <tr>\n",
       "      <th>2</th>\n",
       "      <td>ugh , killa baby kanye , this that heron flow ...</td>\n",
       "      <td>rap</td>\n",
       "    </tr>\n",
       "    <tr>\n",
       "      <th>3</th>\n",
       "      <td>so they ask me young boywhat you gon ' do the ...</td>\n",
       "      <td>rap</td>\n",
       "    </tr>\n",
       "    <tr>\n",
       "      <th>4</th>\n",
       "      <td>hahauh huhno homo young mula , baby i say , he...</td>\n",
       "      <td>rap</td>\n",
       "    </tr>\n",
       "  </tbody>\n",
       "</table>\n",
       "</div>"
      ]
     },
     "execution_count": 2,
     "metadata": {},
     "output_type": "execute_result"
    }
   ],
   "execution_count": 2
  },
  {
   "metadata": {
    "ExecuteTime": {
     "end_time": "2024-04-08T06:45:22.290861Z",
     "start_time": "2024-04-08T06:45:22.276836Z"
    }
   },
   "cell_type": "code",
   "source": [
    "# get distinct tags\n",
    "target_cols = df['tag'].unique()\n",
    "target_cols"
   ],
   "id": "6cceae19b4a4bba9",
   "outputs": [
    {
     "data": {
      "text/plain": [
       "array(['rap', 'pop', 'rock', 'rb', 'country'], dtype=object)"
      ]
     },
     "execution_count": 3,
     "metadata": {},
     "output_type": "execute_result"
    }
   ],
   "execution_count": 3
  },
  {
   "metadata": {
    "ExecuteTime": {
     "end_time": "2024-04-08T06:45:22.314462Z",
     "start_time": "2024-04-08T06:45:22.291730Z"
    }
   },
   "cell_type": "code",
   "source": "df.tag.value_counts()",
   "id": "ca4b45a8c740d4fb",
   "outputs": [
    {
     "data": {
      "text/plain": [
       "tag\n",
       "rap        105822\n",
       "pop         98869\n",
       "rock        83318\n",
       "rb          45667\n",
       "country     34872\n",
       "Name: count, dtype: int64"
      ]
     },
     "execution_count": 4,
     "metadata": {},
     "output_type": "execute_result"
    }
   ],
   "execution_count": 4
  },
  {
   "metadata": {
    "ExecuteTime": {
     "end_time": "2024-04-08T06:45:27.142167Z",
     "start_time": "2024-04-08T06:45:27.083380Z"
    }
   },
   "cell_type": "code",
   "source": [
    "# sample 30% of the data\n",
    "df = df.sample(frac=0.5).reset_index(drop=True)\n",
    "# reset the index\n",
    "df.reset_index(drop=True, inplace=True)\n",
    "df.head()"
   ],
   "id": "341c4cdbc4c165c2",
   "outputs": [
    {
     "data": {
      "text/plain": [
       "                                                text   tag\n",
       "0  deniz st k p r rhey hey can m , rinna nay , ri...  rock\n",
       "1                                                  ,  rock\n",
       "2  gezer on the beat gece gene tehlikeli ve bad t...   rap\n",
       "3  yeah , when the devil come boythe devil gon ' ...   rap\n",
       "4  s l nge skutan kan g s l nge hj rtat kan sl s ...   pop"
      ],
      "text/html": [
       "<div>\n",
       "<style scoped>\n",
       "    .dataframe tbody tr th:only-of-type {\n",
       "        vertical-align: middle;\n",
       "    }\n",
       "\n",
       "    .dataframe tbody tr th {\n",
       "        vertical-align: top;\n",
       "    }\n",
       "\n",
       "    .dataframe thead th {\n",
       "        text-align: right;\n",
       "    }\n",
       "</style>\n",
       "<table border=\"1\" class=\"dataframe\">\n",
       "  <thead>\n",
       "    <tr style=\"text-align: right;\">\n",
       "      <th></th>\n",
       "      <th>text</th>\n",
       "      <th>tag</th>\n",
       "    </tr>\n",
       "  </thead>\n",
       "  <tbody>\n",
       "    <tr>\n",
       "      <th>0</th>\n",
       "      <td>deniz st k p r rhey hey can m , rinna nay , ri...</td>\n",
       "      <td>rock</td>\n",
       "    </tr>\n",
       "    <tr>\n",
       "      <th>1</th>\n",
       "      <td>,</td>\n",
       "      <td>rock</td>\n",
       "    </tr>\n",
       "    <tr>\n",
       "      <th>2</th>\n",
       "      <td>gezer on the beat gece gene tehlikeli ve bad t...</td>\n",
       "      <td>rap</td>\n",
       "    </tr>\n",
       "    <tr>\n",
       "      <th>3</th>\n",
       "      <td>yeah , when the devil come boythe devil gon ' ...</td>\n",
       "      <td>rap</td>\n",
       "    </tr>\n",
       "    <tr>\n",
       "      <th>4</th>\n",
       "      <td>s l nge skutan kan g s l nge hj rtat kan sl s ...</td>\n",
       "      <td>pop</td>\n",
       "    </tr>\n",
       "  </tbody>\n",
       "</table>\n",
       "</div>"
      ]
     },
     "execution_count": 5,
     "metadata": {},
     "output_type": "execute_result"
    }
   ],
   "execution_count": 5
  },
  {
   "metadata": {
    "ExecuteTime": {
     "end_time": "2024-04-08T06:45:30.682790Z",
     "start_time": "2024-04-08T06:45:30.619568Z"
    }
   },
   "cell_type": "code",
   "source": [
    "from sklearn.preprocessing import OneHotEncoder\n",
    "encoder = OneHotEncoder()\n",
    "label = encoder.fit_transform(df[['tag']]).toarray()\n",
    "\n",
    "# append one hot encoded label to the dataframe with distinct tags as columns\n",
    "df = pd.concat([df, pd.DataFrame(label, columns=target_cols)], axis=1)\n",
    "df.head()"
   ],
   "id": "6fb63066bccb86e",
   "outputs": [
    {
     "data": {
      "text/plain": [
       "                                                text   tag  rap  pop  rock  \\\n",
       "0  deniz st k p r rhey hey can m , rinna nay , ri...  rock  0.0  0.0   0.0   \n",
       "1                                                  ,  rock  0.0  0.0   0.0   \n",
       "2  gezer on the beat gece gene tehlikeli ve bad t...   rap  0.0  0.0   1.0   \n",
       "3  yeah , when the devil come boythe devil gon ' ...   rap  0.0  0.0   1.0   \n",
       "4  s l nge skutan kan g s l nge hj rtat kan sl s ...   pop  0.0  1.0   0.0   \n",
       "\n",
       "    rb  country  \n",
       "0  0.0      1.0  \n",
       "1  0.0      1.0  \n",
       "2  0.0      0.0  \n",
       "3  0.0      0.0  \n",
       "4  0.0      0.0  "
      ],
      "text/html": [
       "<div>\n",
       "<style scoped>\n",
       "    .dataframe tbody tr th:only-of-type {\n",
       "        vertical-align: middle;\n",
       "    }\n",
       "\n",
       "    .dataframe tbody tr th {\n",
       "        vertical-align: top;\n",
       "    }\n",
       "\n",
       "    .dataframe thead th {\n",
       "        text-align: right;\n",
       "    }\n",
       "</style>\n",
       "<table border=\"1\" class=\"dataframe\">\n",
       "  <thead>\n",
       "    <tr style=\"text-align: right;\">\n",
       "      <th></th>\n",
       "      <th>text</th>\n",
       "      <th>tag</th>\n",
       "      <th>rap</th>\n",
       "      <th>pop</th>\n",
       "      <th>rock</th>\n",
       "      <th>rb</th>\n",
       "      <th>country</th>\n",
       "    </tr>\n",
       "  </thead>\n",
       "  <tbody>\n",
       "    <tr>\n",
       "      <th>0</th>\n",
       "      <td>deniz st k p r rhey hey can m , rinna nay , ri...</td>\n",
       "      <td>rock</td>\n",
       "      <td>0.0</td>\n",
       "      <td>0.0</td>\n",
       "      <td>0.0</td>\n",
       "      <td>0.0</td>\n",
       "      <td>1.0</td>\n",
       "    </tr>\n",
       "    <tr>\n",
       "      <th>1</th>\n",
       "      <td>,</td>\n",
       "      <td>rock</td>\n",
       "      <td>0.0</td>\n",
       "      <td>0.0</td>\n",
       "      <td>0.0</td>\n",
       "      <td>0.0</td>\n",
       "      <td>1.0</td>\n",
       "    </tr>\n",
       "    <tr>\n",
       "      <th>2</th>\n",
       "      <td>gezer on the beat gece gene tehlikeli ve bad t...</td>\n",
       "      <td>rap</td>\n",
       "      <td>0.0</td>\n",
       "      <td>0.0</td>\n",
       "      <td>1.0</td>\n",
       "      <td>0.0</td>\n",
       "      <td>0.0</td>\n",
       "    </tr>\n",
       "    <tr>\n",
       "      <th>3</th>\n",
       "      <td>yeah , when the devil come boythe devil gon ' ...</td>\n",
       "      <td>rap</td>\n",
       "      <td>0.0</td>\n",
       "      <td>0.0</td>\n",
       "      <td>1.0</td>\n",
       "      <td>0.0</td>\n",
       "      <td>0.0</td>\n",
       "    </tr>\n",
       "    <tr>\n",
       "      <th>4</th>\n",
       "      <td>s l nge skutan kan g s l nge hj rtat kan sl s ...</td>\n",
       "      <td>pop</td>\n",
       "      <td>0.0</td>\n",
       "      <td>1.0</td>\n",
       "      <td>0.0</td>\n",
       "      <td>0.0</td>\n",
       "      <td>0.0</td>\n",
       "    </tr>\n",
       "  </tbody>\n",
       "</table>\n",
       "</div>"
      ]
     },
     "execution_count": 6,
     "metadata": {},
     "output_type": "execute_result"
    }
   ],
   "execution_count": 6
  },
  {
   "metadata": {
    "ExecuteTime": {
     "end_time": "2024-04-08T06:45:32.401501Z",
     "start_time": "2024-04-08T06:45:32.355317Z"
    }
   },
   "cell_type": "code",
   "source": [
    "# split the data into training and validation\n",
    "df.drop(columns=['tag'], inplace=True)\n",
    "# reset the index\n",
    "df.reset_index(drop=True, inplace=True)\n",
    "\n",
    "df_train, df_val = train_test_split(df, test_size=0.2, random_state=42)\n",
    "df_train.shape, df_val.shape"
   ],
   "id": "a8ce6d085190e3f5",
   "outputs": [
    {
     "data": {
      "text/plain": [
       "((147419, 6), (36855, 6))"
      ]
     },
     "execution_count": 7,
     "metadata": {},
     "output_type": "execute_result"
    }
   ],
   "execution_count": 7
  },
  {
   "metadata": {
    "ExecuteTime": {
     "end_time": "2024-04-08T06:45:34.019434Z",
     "start_time": "2024-04-08T06:45:34.004489Z"
    }
   },
   "cell_type": "code",
   "source": [
    "df_train = df_train.reset_index(drop=True)\n",
    "df_val = df_val.reset_index(drop=True)"
   ],
   "id": "3e6adf8fb553d38",
   "outputs": [],
   "execution_count": 8
  },
  {
   "metadata": {
    "ExecuteTime": {
     "end_time": "2024-04-08T06:45:35.306420Z",
     "start_time": "2024-04-08T06:45:35.301489Z"
    }
   },
   "cell_type": "code",
   "source": "from transformers import AutoTokenizer, AutoModel",
   "id": "651bed2548285b7a",
   "outputs": [],
   "execution_count": 9
  },
  {
   "metadata": {
    "ExecuteTime": {
     "end_time": "2024-04-08T06:45:36.021754Z",
     "start_time": "2024-04-08T06:45:35.465771Z"
    }
   },
   "cell_type": "code",
   "source": [
    "# Defining some key variables that will be used later on in the training\n",
    "MAX_LEN = 200\n",
    "TRAIN_BATCH_SIZE = 32\n",
    "VALID_BATCH_SIZE = 32\n",
    "EPOCHS = 2\n",
    "LEARNING_RATE = 2e-5\n",
    "tokenizer = AutoTokenizer.from_pretrained('roberta-base')"
   ],
   "id": "d2612b26b0b70901",
   "outputs": [],
   "execution_count": 10
  },
  {
   "metadata": {
    "ExecuteTime": {
     "end_time": "2024-04-08T06:45:36.028388Z",
     "start_time": "2024-04-08T06:45:36.023073Z"
    }
   },
   "cell_type": "code",
   "source": [
    "class BERTDataset(Dataset):\n",
    "    def __init__(self, df, tokenizer, max_len):\n",
    "        self.df = df\n",
    "        self.max_len = max_len\n",
    "        self.text = df.text\n",
    "        self.tokenizer = tokenizer\n",
    "        self.targets = df[target_cols].values\n",
    "\n",
    "    def __len__(self):\n",
    "        return len(self.df)\n",
    "\n",
    "    def __getitem__(self, index):\n",
    "        text = self.text[index]\n",
    "        inputs = self.tokenizer.encode_plus(\n",
    "            text,\n",
    "            truncation=True,\n",
    "            add_special_tokens=True,\n",
    "            max_length=self.max_len,\n",
    "            padding='max_length',\n",
    "            return_token_type_ids=True\n",
    "        )\n",
    "        ids = inputs['input_ids']\n",
    "        mask = inputs['attention_mask']\n",
    "        token_type_ids = inputs[\"token_type_ids\"]\n",
    "\n",
    "        return {\n",
    "            'ids': torch.tensor(ids, dtype=torch.long),\n",
    "            'mask': torch.tensor(mask, dtype=torch.long),\n",
    "            'token_type_ids': torch.tensor(token_type_ids, dtype=torch.long),\n",
    "            'targets': torch.tensor(self.targets[index], dtype=torch.float)\n",
    "        }"
   ],
   "id": "2251f9da1fa1dcfc",
   "outputs": [],
   "execution_count": 11
  },
  {
   "metadata": {
    "ExecuteTime": {
     "end_time": "2024-04-07T23:01:05.777011Z",
     "start_time": "2024-04-07T23:01:05.756982Z"
    }
   },
   "cell_type": "code",
   "source": [
    "train_dataset = BERTDataset(df_train, tokenizer, MAX_LEN)\n",
    "valid_dataset = BERTDataset(df_val, tokenizer, MAX_LEN)"
   ],
   "id": "ed2a84bc11dda40d",
   "outputs": [],
   "execution_count": 12
  },
  {
   "metadata": {
    "ExecuteTime": {
     "end_time": "2024-04-07T23:01:05.787432Z",
     "start_time": "2024-04-07T23:01:05.777995Z"
    }
   },
   "cell_type": "code",
   "source": [
    "train_loader = DataLoader(train_dataset, batch_size=TRAIN_BATCH_SIZE, \n",
    "                          num_workers=4, shuffle=True, pin_memory=True)\n",
    "valid_loader = DataLoader(valid_dataset, batch_size=VALID_BATCH_SIZE, \n",
    "                          num_workers=4, shuffle=False, pin_memory=True)"
   ],
   "id": "a995d71141d2ec29",
   "outputs": [],
   "execution_count": 13
  },
  {
   "metadata": {
    "ExecuteTime": {
     "end_time": "2024-04-08T06:47:51.806934Z",
     "start_time": "2024-04-08T06:47:51.802347Z"
    }
   },
   "cell_type": "code",
   "source": [
    "device = torch.device('cuda' if torch.cuda.is_available() else 'cpu')\n",
    "device"
   ],
   "id": "29f2a634ce06ef6e",
   "outputs": [
    {
     "data": {
      "text/plain": [
       "device(type='cuda')"
      ]
     },
     "execution_count": 20,
     "metadata": {},
     "output_type": "execute_result"
    }
   ],
   "execution_count": 20
  },
  {
   "metadata": {
    "ExecuteTime": {
     "end_time": "2024-04-08T06:45:41.430980Z",
     "start_time": "2024-04-08T06:45:40.284601Z"
    }
   },
   "cell_type": "code",
   "source": [
    "class BERTClass(torch.nn.Module):\n",
    "    def __init__(self):\n",
    "        super(BERTClass, self).__init__()\n",
    "        self.roberta = AutoModel.from_pretrained('roberta-base')\n",
    "        # self.l2 = torch.nn.Dropout(0.3)\n",
    "        self.fc = torch.nn.Linear(768,5)\n",
    "    \n",
    "    def forward(self, ids, mask, token_type_ids):\n",
    "        _, features = self.roberta(ids, attention_mask = mask, token_type_ids = token_type_ids, return_dict=False)\n",
    "        # output_2 = self.l2(output_1)\n",
    "        output = self.fc(features)\n",
    "        return output\n",
    "\n",
    "model = BERTClass()\n",
    "model.to(device);"
   ],
   "id": "229ba360f918e57c",
   "outputs": [
    {
     "name": "stderr",
     "output_type": "stream",
     "text": [
      "Some weights of RobertaModel were not initialized from the model checkpoint at roberta-base and are newly initialized: ['roberta.pooler.dense.bias', 'roberta.pooler.dense.weight']\n",
      "You should probably TRAIN this model on a down-stream task to be able to use it for predictions and inference.\n"
     ]
    },
    {
     "ename": "NameError",
     "evalue": "name 'device' is not defined",
     "output_type": "error",
     "traceback": [
      "\u001B[0;31m---------------------------------------------------------------------------\u001B[0m",
      "\u001B[0;31mNameError\u001B[0m                                 Traceback (most recent call last)",
      "Cell \u001B[0;32mIn[12], line 15\u001B[0m\n\u001B[1;32m     12\u001B[0m         \u001B[38;5;28;01mreturn\u001B[39;00m output\n\u001B[1;32m     14\u001B[0m model \u001B[38;5;241m=\u001B[39m BERTClass()\n\u001B[0;32m---> 15\u001B[0m model\u001B[38;5;241m.\u001B[39mto(device)\n",
      "\u001B[0;31mNameError\u001B[0m: name 'device' is not defined"
     ]
    }
   ],
   "execution_count": 12
  },
  {
   "metadata": {
    "ExecuteTime": {
     "end_time": "2024-04-08T06:45:43.344275Z",
     "start_time": "2024-04-08T06:45:43.340978Z"
    }
   },
   "cell_type": "code",
   "source": [
    "def loss_fn(outputs, targets):\n",
    "    return torch.nn.BCEWithLogitsLoss()(outputs, targets)"
   ],
   "id": "fb68a308cbd5fe61",
   "outputs": [],
   "execution_count": 13
  },
  {
   "metadata": {
    "ExecuteTime": {
     "end_time": "2024-04-08T06:45:44.369187Z",
     "start_time": "2024-04-08T06:45:43.550552Z"
    }
   },
   "cell_type": "code",
   "source": "optimizer = AdamW(params =  model.parameters(), lr=LEARNING_RATE, weight_decay=1e-6)",
   "id": "13194607b229d646",
   "outputs": [
    {
     "name": "stderr",
     "output_type": "stream",
     "text": [
      "/home/john/miniconda3/lib/python3.11/site-packages/transformers/optimization.py:457: FutureWarning: This implementation of AdamW is deprecated and will be removed in a future version. Use the PyTorch implementation torch.optim.AdamW instead, or set `no_deprecation_warning=True` to disable this warning\n",
      "  warnings.warn(\n"
     ]
    }
   ],
   "execution_count": 14
  },
  {
   "metadata": {
    "ExecuteTime": {
     "end_time": "2024-04-07T23:01:06.694620Z",
     "start_time": "2024-04-07T23:01:06.691341Z"
    }
   },
   "cell_type": "code",
   "source": [
    "def train(epoch):\n",
    "    model.train()\n",
    "    for _,data in enumerate(train_loader, 0):\n",
    "        ids = data['ids'].to(device, dtype = torch.long)\n",
    "        mask = data['mask'].to(device, dtype = torch.long)\n",
    "        token_type_ids = data['token_type_ids'].to(device, dtype = torch.long)\n",
    "        targets = data['targets'].to(device, dtype = torch.float)\n",
    "\n",
    "        outputs = model(ids, mask, token_type_ids)\n",
    "\n",
    "        loss = loss_fn(outputs, targets)\n",
    "        if _%40 == 0:\n",
    "            print(f'Epoch: {epoch}, Loss:  {loss.item()}, processed: {_/len(train_loader)*100}%')\n",
    "            \n",
    "        \n",
    "        loss.backward()\n",
    "        optimizer.step()\n",
    "        optimizer.zero_grad()"
   ],
   "id": "b1a7d3a75fd24052",
   "outputs": [],
   "execution_count": 18
  },
  {
   "metadata": {
    "ExecuteTime": {
     "end_time": "2024-04-08T05:15:05.324212Z",
     "start_time": "2024-04-08T03:40:19.838788Z"
    }
   },
   "cell_type": "code",
   "source": [
    "for epoch in range(EPOCHS):\n",
    "    train(epoch)"
   ],
   "id": "3529b77d09017706",
   "outputs": [
    {
     "name": "stdout",
     "output_type": "stream",
     "text": [
      "Epoch: 0, Loss:  0.14179185032844543, processed: 0.0%\n",
      "Epoch: 0, Loss:  0.1984497457742691, processed: 0.8682439765574127%\n",
      "Epoch: 0, Loss:  0.13869385421276093, processed: 1.7364879531148254%\n",
      "Epoch: 0, Loss:  0.18641141057014465, processed: 2.604731929672238%\n",
      "Epoch: 0, Loss:  0.2038928121328354, processed: 3.472975906229651%\n",
      "Epoch: 0, Loss:  0.17198549211025238, processed: 4.341219882787064%\n",
      "Epoch: 0, Loss:  0.11221449822187424, processed: 5.209463859344476%\n",
      "Epoch: 0, Loss:  0.2029007524251938, processed: 6.077707835901888%\n",
      "Epoch: 0, Loss:  0.10868886858224869, processed: 6.945951812459302%\n",
      "Epoch: 0, Loss:  0.1311841458082199, processed: 7.814195789016713%\n",
      "Epoch: 0, Loss:  0.1835675686597824, processed: 8.682439765574127%\n",
      "Epoch: 0, Loss:  0.12578506767749786, processed: 9.55068374213154%\n",
      "Epoch: 0, Loss:  0.1619919389486313, processed: 10.418927718688952%\n",
      "Epoch: 0, Loss:  0.07997047156095505, processed: 11.287171695246364%\n",
      "Epoch: 0, Loss:  0.10955436527729034, processed: 12.155415671803777%\n",
      "Epoch: 0, Loss:  0.09205778688192368, processed: 13.023659648361189%\n",
      "Epoch: 0, Loss:  0.1856437772512436, processed: 13.891903624918603%\n",
      "Epoch: 0, Loss:  0.19603648781776428, processed: 14.760147601476014%\n",
      "Epoch: 0, Loss:  0.20197968184947968, processed: 15.628391578033426%\n",
      "Epoch: 0, Loss:  0.11422840505838394, processed: 16.496635554590842%\n",
      "Epoch: 0, Loss:  0.218719482421875, processed: 17.364879531148254%\n",
      "Epoch: 0, Loss:  0.24732160568237305, processed: 18.233123507705663%\n",
      "Epoch: 0, Loss:  0.1636197715997696, processed: 19.10136748426308%\n",
      "Epoch: 0, Loss:  0.20898082852363586, processed: 19.96961146082049%\n",
      "Epoch: 0, Loss:  0.05948904901742935, processed: 20.837855437377904%\n",
      "Epoch: 0, Loss:  0.1505863070487976, processed: 21.706099413935316%\n",
      "Epoch: 0, Loss:  0.18039260804653168, processed: 22.57434339049273%\n",
      "Epoch: 0, Loss:  0.18778084218502045, processed: 23.44258736705014%\n",
      "Epoch: 0, Loss:  0.1528245359659195, processed: 24.310831343607553%\n",
      "Epoch: 0, Loss:  0.16526512801647186, processed: 25.17907532016497%\n",
      "Epoch: 0, Loss:  0.26753947138786316, processed: 26.047319296722378%\n",
      "Epoch: 0, Loss:  0.22093068063259125, processed: 26.91556327327979%\n",
      "Epoch: 0, Loss:  0.16839063167572021, processed: 27.783807249837206%\n",
      "Epoch: 0, Loss:  0.16219332814216614, processed: 28.652051226394615%\n",
      "Epoch: 0, Loss:  0.13772913813591003, processed: 29.520295202952028%\n",
      "Epoch: 0, Loss:  0.15249133110046387, processed: 30.388539179509443%\n",
      "Epoch: 0, Loss:  0.14684467017650604, processed: 31.256783156066852%\n",
      "Epoch: 0, Loss:  0.12273762375116348, processed: 32.12502713262427%\n",
      "Epoch: 0, Loss:  0.12807820737361908, processed: 32.993271109181684%\n",
      "Epoch: 0, Loss:  0.21548865735530853, processed: 33.86151508573909%\n",
      "Epoch: 0, Loss:  0.1698845773935318, processed: 34.72975906229651%\n",
      "Epoch: 0, Loss:  0.13842527568340302, processed: 35.59800303885392%\n",
      "Epoch: 0, Loss:  0.10609608143568039, processed: 36.46624701541133%\n",
      "Epoch: 0, Loss:  0.10228496789932251, processed: 37.33449099196874%\n",
      "Epoch: 0, Loss:  0.12609554827213287, processed: 38.20273496852616%\n",
      "Epoch: 0, Loss:  0.16803155839443207, processed: 39.07097894508357%\n",
      "Epoch: 0, Loss:  0.1340252012014389, processed: 39.93922292164098%\n",
      "Epoch: 0, Loss:  0.13413214683532715, processed: 40.80746689819839%\n",
      "Epoch: 0, Loss:  0.1569632589817047, processed: 41.67571087475581%\n",
      "Epoch: 0, Loss:  0.25002774596214294, processed: 42.543954851313224%\n",
      "Epoch: 0, Loss:  0.2753915786743164, processed: 43.41219882787063%\n",
      "Epoch: 0, Loss:  0.1849105954170227, processed: 44.28044280442804%\n",
      "Epoch: 0, Loss:  0.21556882560253143, processed: 45.14868678098546%\n",
      "Epoch: 0, Loss:  0.13434134423732758, processed: 46.016930757542866%\n",
      "Epoch: 0, Loss:  0.09984371811151505, processed: 46.88517473410028%\n",
      "Epoch: 0, Loss:  0.19268320500850677, processed: 47.7534187106577%\n",
      "Epoch: 0, Loss:  0.23927001655101776, processed: 48.62166268721511%\n",
      "Epoch: 0, Loss:  0.24167004227638245, processed: 49.48990666377252%\n",
      "Epoch: 0, Loss:  0.14337508380413055, processed: 50.35815064032994%\n",
      "Epoch: 0, Loss:  0.17738331854343414, processed: 51.22639461688735%\n",
      "Epoch: 0, Loss:  0.23211808502674103, processed: 52.094638593444756%\n",
      "Epoch: 0, Loss:  0.17346642911434174, processed: 52.962882570002165%\n",
      "Epoch: 0, Loss:  0.18716852366924286, processed: 53.83112654655958%\n",
      "Epoch: 0, Loss:  0.19287455081939697, processed: 54.699370523117%\n",
      "Epoch: 0, Loss:  0.15452440083026886, processed: 55.56761449967441%\n",
      "Epoch: 0, Loss:  0.19562862813472748, processed: 56.43585847623183%\n",
      "Epoch: 0, Loss:  0.09741582721471786, processed: 57.30410245278923%\n",
      "Epoch: 0, Loss:  0.10658714920282364, processed: 58.172346429346646%\n",
      "Epoch: 0, Loss:  0.13210541009902954, processed: 59.040590405904055%\n",
      "Epoch: 0, Loss:  0.14089570939540863, processed: 59.90883438246147%\n",
      "Epoch: 0, Loss:  0.16846376657485962, processed: 60.77707835901889%\n",
      "Epoch: 0, Loss:  0.32708337903022766, processed: 61.6453223355763%\n",
      "Epoch: 0, Loss:  0.13173317909240723, processed: 62.513566312133705%\n",
      "Epoch: 0, Loss:  0.09468679130077362, processed: 63.38181028869112%\n",
      "Epoch: 0, Loss:  0.15984037518501282, processed: 64.25005426524854%\n",
      "Epoch: 0, Loss:  0.14082029461860657, processed: 65.11829824180595%\n",
      "Epoch: 0, Loss:  0.28761738538742065, processed: 65.98654221836337%\n",
      "Epoch: 0, Loss:  0.07704738527536392, processed: 66.85478619492076%\n",
      "Epoch: 0, Loss:  0.1150408536195755, processed: 67.72303017147819%\n",
      "Epoch: 0, Loss:  0.1362619251012802, processed: 68.5912741480356%\n",
      "Epoch: 0, Loss:  0.16097353398799896, processed: 69.45951812459302%\n",
      "Epoch: 0, Loss:  0.10116785019636154, processed: 70.32776210115043%\n",
      "Epoch: 0, Loss:  0.20468389987945557, processed: 71.19600607770784%\n",
      "Epoch: 0, Loss:  0.14399050176143646, processed: 72.06425005426524%\n",
      "Epoch: 0, Loss:  0.19264359772205353, processed: 72.93249403082265%\n",
      "Epoch: 0, Loss:  0.2258029729127884, processed: 73.80073800738008%\n",
      "Epoch: 0, Loss:  0.2117597907781601, processed: 74.66898198393748%\n",
      "Epoch: 0, Loss:  0.1421598643064499, processed: 75.53722596049491%\n",
      "Epoch: 0, Loss:  0.14948301017284393, processed: 76.40546993705232%\n",
      "Epoch: 0, Loss:  0.1719379872083664, processed: 77.27371391360973%\n",
      "Epoch: 0, Loss:  0.22208133339881897, processed: 78.14195789016713%\n",
      "Epoch: 0, Loss:  0.17605535686016083, processed: 79.01020186672454%\n",
      "Epoch: 0, Loss:  0.20882117748260498, processed: 79.87844584328197%\n",
      "Epoch: 0, Loss:  0.10378160327672958, processed: 80.74668981983937%\n",
      "Epoch: 0, Loss:  0.15331505239009857, processed: 81.61493379639678%\n",
      "Epoch: 0, Loss:  0.13436372578144073, processed: 82.48317777295419%\n",
      "Epoch: 0, Loss:  0.1623208075761795, processed: 83.35142174951162%\n",
      "Epoch: 0, Loss:  0.11815514415502548, processed: 84.21966572606902%\n",
      "Epoch: 0, Loss:  0.18539586663246155, processed: 85.08790970262645%\n",
      "Epoch: 0, Loss:  0.15163901448249817, processed: 85.95615367918386%\n",
      "Epoch: 0, Loss:  0.18853862583637238, processed: 86.82439765574127%\n",
      "Epoch: 0, Loss:  0.11842656135559082, processed: 87.69264163229867%\n",
      "Epoch: 0, Loss:  0.07237499207258224, processed: 88.56088560885608%\n",
      "Epoch: 0, Loss:  0.18998773396015167, processed: 89.4291295854135%\n",
      "Epoch: 0, Loss:  0.2087709754705429, processed: 90.29737356197091%\n",
      "Epoch: 0, Loss:  0.1147381067276001, processed: 91.16561753852834%\n",
      "Epoch: 0, Loss:  0.18928323686122894, processed: 92.03386151508573%\n",
      "Epoch: 0, Loss:  0.2262762039899826, processed: 92.90210549164316%\n",
      "Epoch: 0, Loss:  0.17327532172203064, processed: 93.77034946820056%\n",
      "Epoch: 0, Loss:  0.17749816179275513, processed: 94.63859344475797%\n",
      "Epoch: 0, Loss:  0.19781102240085602, processed: 95.5068374213154%\n",
      "Epoch: 0, Loss:  0.14541445672512054, processed: 96.37508139787279%\n",
      "Epoch: 0, Loss:  0.17519907653331757, processed: 97.24332537443021%\n",
      "Epoch: 0, Loss:  0.23926356434822083, processed: 98.11156935098762%\n",
      "Epoch: 0, Loss:  0.16661004722118378, processed: 98.97981332754505%\n",
      "Epoch: 0, Loss:  0.14248692989349365, processed: 99.84805730410245%\n",
      "Epoch: 1, Loss:  0.14192666113376617, processed: 0.0%\n",
      "Epoch: 1, Loss:  0.0923340916633606, processed: 0.8682439765574127%\n",
      "Epoch: 1, Loss:  0.07639264315366745, processed: 1.7364879531148254%\n",
      "Epoch: 1, Loss:  0.1696820706129074, processed: 2.604731929672238%\n",
      "Epoch: 1, Loss:  0.11340661346912384, processed: 3.472975906229651%\n",
      "Epoch: 1, Loss:  0.1235717311501503, processed: 4.341219882787064%\n",
      "Epoch: 1, Loss:  0.2689273953437805, processed: 5.209463859344476%\n",
      "Epoch: 1, Loss:  0.12471218407154083, processed: 6.077707835901888%\n",
      "Epoch: 1, Loss:  0.12276697158813477, processed: 6.945951812459302%\n",
      "Epoch: 1, Loss:  0.09358661621809006, processed: 7.814195789016713%\n",
      "Epoch: 1, Loss:  0.07598026841878891, processed: 8.682439765574127%\n",
      "Epoch: 1, Loss:  0.16480596363544464, processed: 9.55068374213154%\n",
      "Epoch: 1, Loss:  0.10799270868301392, processed: 10.418927718688952%\n",
      "Epoch: 1, Loss:  0.1558058261871338, processed: 11.287171695246364%\n",
      "Epoch: 1, Loss:  0.11181201785802841, processed: 12.155415671803777%\n",
      "Epoch: 1, Loss:  0.05967987701296806, processed: 13.023659648361189%\n",
      "Epoch: 1, Loss:  0.1898234337568283, processed: 13.891903624918603%\n",
      "Epoch: 1, Loss:  0.15050335228443146, processed: 14.760147601476014%\n",
      "Epoch: 1, Loss:  0.08970246464014053, processed: 15.628391578033426%\n",
      "Epoch: 1, Loss:  0.16196082532405853, processed: 16.496635554590842%\n",
      "Epoch: 1, Loss:  0.11314123123884201, processed: 17.364879531148254%\n",
      "Epoch: 1, Loss:  0.20586171746253967, processed: 18.233123507705663%\n",
      "Epoch: 1, Loss:  0.12638671696186066, processed: 19.10136748426308%\n",
      "Epoch: 1, Loss:  0.11612413078546524, processed: 19.96961146082049%\n",
      "Epoch: 1, Loss:  0.13313893973827362, processed: 20.837855437377904%\n",
      "Epoch: 1, Loss:  0.08917655795812607, processed: 21.706099413935316%\n",
      "Epoch: 1, Loss:  0.20027442276477814, processed: 22.57434339049273%\n",
      "Epoch: 1, Loss:  0.14985623955726624, processed: 23.44258736705014%\n",
      "Epoch: 1, Loss:  0.08984292298555374, processed: 24.310831343607553%\n",
      "Epoch: 1, Loss:  0.09489971399307251, processed: 25.17907532016497%\n",
      "Epoch: 1, Loss:  0.1155359074473381, processed: 26.047319296722378%\n",
      "Epoch: 1, Loss:  0.1190323606133461, processed: 26.91556327327979%\n",
      "Epoch: 1, Loss:  0.14183229207992554, processed: 27.783807249837206%\n",
      "Epoch: 1, Loss:  0.12161868065595627, processed: 28.652051226394615%\n",
      "Epoch: 1, Loss:  0.1320193111896515, processed: 29.520295202952028%\n",
      "Epoch: 1, Loss:  0.22171750664710999, processed: 30.388539179509443%\n",
      "Epoch: 1, Loss:  0.08972681313753128, processed: 31.256783156066852%\n",
      "Epoch: 1, Loss:  0.1460459977388382, processed: 32.12502713262427%\n",
      "Epoch: 1, Loss:  0.17109334468841553, processed: 32.993271109181684%\n",
      "Epoch: 1, Loss:  0.11769216507673264, processed: 33.86151508573909%\n",
      "Epoch: 1, Loss:  0.17246536910533905, processed: 34.72975906229651%\n",
      "Epoch: 1, Loss:  0.15506984293460846, processed: 35.59800303885392%\n",
      "Epoch: 1, Loss:  0.0630965605378151, processed: 36.46624701541133%\n",
      "Epoch: 1, Loss:  0.05124598741531372, processed: 37.33449099196874%\n",
      "Epoch: 1, Loss:  0.18618106842041016, processed: 38.20273496852616%\n",
      "Epoch: 1, Loss:  0.12121625244617462, processed: 39.07097894508357%\n",
      "Epoch: 1, Loss:  0.10962247103452682, processed: 39.93922292164098%\n",
      "Epoch: 1, Loss:  0.07334905862808228, processed: 40.80746689819839%\n",
      "Epoch: 1, Loss:  0.19578592479228973, processed: 41.67571087475581%\n",
      "Epoch: 1, Loss:  0.12360578775405884, processed: 42.543954851313224%\n",
      "Epoch: 1, Loss:  0.1059047132730484, processed: 43.41219882787063%\n",
      "Epoch: 1, Loss:  0.10879118740558624, processed: 44.28044280442804%\n",
      "Epoch: 1, Loss:  0.08958450704813004, processed: 45.14868678098546%\n",
      "Epoch: 1, Loss:  0.14362852275371552, processed: 46.016930757542866%\n",
      "Epoch: 1, Loss:  0.10230886936187744, processed: 46.88517473410028%\n",
      "Epoch: 1, Loss:  0.12160634249448776, processed: 47.7534187106577%\n",
      "Epoch: 1, Loss:  0.16305550932884216, processed: 48.62166268721511%\n",
      "Epoch: 1, Loss:  0.1945766657590866, processed: 49.48990666377252%\n",
      "Epoch: 1, Loss:  0.1012880802154541, processed: 50.35815064032994%\n",
      "Epoch: 1, Loss:  0.10725505650043488, processed: 51.22639461688735%\n",
      "Epoch: 1, Loss:  0.1815575808286667, processed: 52.094638593444756%\n",
      "Epoch: 1, Loss:  0.1438593566417694, processed: 52.962882570002165%\n",
      "Epoch: 1, Loss:  0.21452832221984863, processed: 53.83112654655958%\n",
      "Epoch: 1, Loss:  0.09157945960760117, processed: 54.699370523117%\n",
      "Epoch: 1, Loss:  0.18435943126678467, processed: 55.56761449967441%\n",
      "Epoch: 1, Loss:  0.1813868135213852, processed: 56.43585847623183%\n",
      "Epoch: 1, Loss:  0.15930913388729095, processed: 57.30410245278923%\n",
      "Epoch: 1, Loss:  0.12301548570394516, processed: 58.172346429346646%\n",
      "Epoch: 1, Loss:  0.09774070233106613, processed: 59.040590405904055%\n",
      "Epoch: 1, Loss:  0.05943704769015312, processed: 59.90883438246147%\n",
      "Epoch: 1, Loss:  0.1028953343629837, processed: 60.77707835901889%\n",
      "Epoch: 1, Loss:  0.12482291460037231, processed: 61.6453223355763%\n",
      "Epoch: 1, Loss:  0.23751989006996155, processed: 62.513566312133705%\n",
      "Epoch: 1, Loss:  0.2007037252187729, processed: 63.38181028869112%\n",
      "Epoch: 1, Loss:  0.12687690556049347, processed: 64.25005426524854%\n",
      "Epoch: 1, Loss:  0.1277909129858017, processed: 65.11829824180595%\n",
      "Epoch: 1, Loss:  0.23798885941505432, processed: 65.98654221836337%\n",
      "Epoch: 1, Loss:  0.18193282186985016, processed: 66.85478619492076%\n",
      "Epoch: 1, Loss:  0.2030659168958664, processed: 67.72303017147819%\n",
      "Epoch: 1, Loss:  0.11516910046339035, processed: 68.5912741480356%\n",
      "Epoch: 1, Loss:  0.16167405247688293, processed: 69.45951812459302%\n",
      "Epoch: 1, Loss:  0.14513421058654785, processed: 70.32776210115043%\n",
      "Epoch: 1, Loss:  0.15056173503398895, processed: 71.19600607770784%\n",
      "Epoch: 1, Loss:  0.20281091332435608, processed: 72.06425005426524%\n",
      "Epoch: 1, Loss:  0.18662749230861664, processed: 72.93249403082265%\n",
      "Epoch: 1, Loss:  0.09454778581857681, processed: 73.80073800738008%\n",
      "Epoch: 1, Loss:  0.16534392535686493, processed: 74.66898198393748%\n",
      "Epoch: 1, Loss:  0.15256455540657043, processed: 75.53722596049491%\n",
      "Epoch: 1, Loss:  0.11885690689086914, processed: 76.40546993705232%\n",
      "Epoch: 1, Loss:  0.10188636928796768, processed: 77.27371391360973%\n",
      "Epoch: 1, Loss:  0.2022385597229004, processed: 78.14195789016713%\n",
      "Epoch: 1, Loss:  0.06142096593976021, processed: 79.01020186672454%\n",
      "Epoch: 1, Loss:  0.1281481236219406, processed: 79.87844584328197%\n",
      "Epoch: 1, Loss:  0.18932373821735382, processed: 80.74668981983937%\n",
      "Epoch: 1, Loss:  0.15447035431861877, processed: 81.61493379639678%\n",
      "Epoch: 1, Loss:  0.19106236100196838, processed: 82.48317777295419%\n",
      "Epoch: 1, Loss:  0.21582770347595215, processed: 83.35142174951162%\n",
      "Epoch: 1, Loss:  0.1726161688566208, processed: 84.21966572606902%\n",
      "Epoch: 1, Loss:  0.10835970938205719, processed: 85.08790970262645%\n",
      "Epoch: 1, Loss:  0.18211829662322998, processed: 85.95615367918386%\n",
      "Epoch: 1, Loss:  0.06511115282773972, processed: 86.82439765574127%\n",
      "Epoch: 1, Loss:  0.12702274322509766, processed: 87.69264163229867%\n",
      "Epoch: 1, Loss:  0.1130729466676712, processed: 88.56088560885608%\n",
      "Epoch: 1, Loss:  0.12299559265375137, processed: 89.4291295854135%\n",
      "Epoch: 1, Loss:  0.27711057662963867, processed: 90.29737356197091%\n",
      "Epoch: 1, Loss:  0.11525466293096542, processed: 91.16561753852834%\n",
      "Epoch: 1, Loss:  0.09813772886991501, processed: 92.03386151508573%\n",
      "Epoch: 1, Loss:  0.17234867811203003, processed: 92.90210549164316%\n",
      "Epoch: 1, Loss:  0.12347429990768433, processed: 93.77034946820056%\n",
      "Epoch: 1, Loss:  0.1014246940612793, processed: 94.63859344475797%\n",
      "Epoch: 1, Loss:  0.15510423481464386, processed: 95.5068374213154%\n",
      "Epoch: 1, Loss:  0.12895497679710388, processed: 96.37508139787279%\n",
      "Epoch: 1, Loss:  0.19698163866996765, processed: 97.24332537443021%\n",
      "Epoch: 1, Loss:  0.09137967228889465, processed: 98.11156935098762%\n",
      "Epoch: 1, Loss:  0.11233778297901154, processed: 98.97981332754505%\n",
      "Epoch: 1, Loss:  0.23630452156066895, processed: 99.84805730410245%\n"
     ]
    }
   ],
   "execution_count": 24
  },
  {
   "metadata": {
    "ExecuteTime": {
     "end_time": "2024-04-08T06:45:46.576668Z",
     "start_time": "2024-04-08T06:45:46.571445Z"
    }
   },
   "cell_type": "code",
   "source": [
    "def validation():\n",
    "    model.eval()\n",
    "    fin_targets=[]\n",
    "    fin_outputs=[]\n",
    "    with torch.no_grad():\n",
    "        for _, data in enumerate(valid_loader, 0):\n",
    "            ids = data['ids'].to(device, dtype = torch.long)\n",
    "            mask = data['mask'].to(device, dtype = torch.long)\n",
    "            token_type_ids = data['token_type_ids'].to(device, dtype = torch.long)\n",
    "            targets = data['targets'].to(device, dtype = torch.float)\n",
    "            outputs = model(ids, mask, token_type_ids)\n",
    "            fin_targets.extend(targets.cpu().detach().numpy().tolist())\n",
    "            fin_outputs.extend(torch.sigmoid(outputs).cpu().detach().numpy().tolist())\n",
    "    return fin_outputs, fin_targets"
   ],
   "id": "84f59289a7bb81b",
   "outputs": [],
   "execution_count": 15
  },
  {
   "metadata": {
    "ExecuteTime": {
     "end_time": "2024-04-08T05:19:01.059928Z",
     "start_time": "2024-04-08T05:15:05.328811Z"
    }
   },
   "cell_type": "code",
   "source": [
    "from sklearn import metrics\n",
    "\n",
    "outputs, targets = validation()\n",
    "outputs = np.array(outputs) >= 0.5\n",
    "accuracy = metrics.accuracy_score(targets, outputs)\n",
    "f1_score_micro = metrics.f1_score(targets, outputs, average='micro')\n",
    "f1_score_macro = metrics.f1_score(targets, outputs, average='macro')\n",
    "print(f\"Accuracy Score = {accuracy}\")\n",
    "print(f\"F1 Score (Micro) = {f1_score_micro}\")\n",
    "print(f\"F1 Score (Macro) = {f1_score_macro}\")"
   ],
   "id": "e80e131fa5891e18",
   "outputs": [
    {
     "name": "stdout",
     "output_type": "stream",
     "text": [
      "Accuracy Score = 0.6339167005833672\n",
      "F1 Score (Micro) = 0.6570641634580253\n",
      "F1 Score (Macro) = 0.6287798081604311\n"
     ]
    }
   ],
   "execution_count": 26
  },
  {
   "metadata": {
    "ExecuteTime": {
     "end_time": "2024-04-08T05:28:13.951687Z",
     "start_time": "2024-04-08T05:28:12.816692Z"
    }
   },
   "cell_type": "code",
   "source": "torch.save(model.state_dict(), 'model.bin')",
   "id": "7cc9924add9839f",
   "outputs": [],
   "execution_count": 27
  },
  {
   "metadata": {},
   "cell_type": "markdown",
   "source": "## Load the model",
   "id": "b8b37505dcc95373"
  },
  {
   "metadata": {
    "ExecuteTime": {
     "end_time": "2024-04-08T06:48:30.475224Z",
     "start_time": "2024-04-08T06:48:29.947284Z"
    }
   },
   "cell_type": "code",
   "source": [
    "model = BERTClass()\n",
    "model.load_state_dict(torch.load('model.bin'))\n",
    "model.to('cpu')"
   ],
   "id": "4523c4fa163586e2",
   "outputs": [
    {
     "name": "stderr",
     "output_type": "stream",
     "text": [
      "Some weights of RobertaModel were not initialized from the model checkpoint at roberta-base and are newly initialized: ['roberta.pooler.dense.bias', 'roberta.pooler.dense.weight']\n",
      "You should probably TRAIN this model on a down-stream task to be able to use it for predictions and inference.\n"
     ]
    },
    {
     "data": {
      "text/plain": [
       "BERTClass(\n",
       "  (roberta): RobertaModel(\n",
       "    (embeddings): RobertaEmbeddings(\n",
       "      (word_embeddings): Embedding(50265, 768, padding_idx=1)\n",
       "      (position_embeddings): Embedding(514, 768, padding_idx=1)\n",
       "      (token_type_embeddings): Embedding(1, 768)\n",
       "      (LayerNorm): LayerNorm((768,), eps=1e-05, elementwise_affine=True)\n",
       "      (dropout): Dropout(p=0.1, inplace=False)\n",
       "    )\n",
       "    (encoder): RobertaEncoder(\n",
       "      (layer): ModuleList(\n",
       "        (0-11): 12 x RobertaLayer(\n",
       "          (attention): RobertaAttention(\n",
       "            (self): RobertaSelfAttention(\n",
       "              (query): Linear(in_features=768, out_features=768, bias=True)\n",
       "              (key): Linear(in_features=768, out_features=768, bias=True)\n",
       "              (value): Linear(in_features=768, out_features=768, bias=True)\n",
       "              (dropout): Dropout(p=0.1, inplace=False)\n",
       "            )\n",
       "            (output): RobertaSelfOutput(\n",
       "              (dense): Linear(in_features=768, out_features=768, bias=True)\n",
       "              (LayerNorm): LayerNorm((768,), eps=1e-05, elementwise_affine=True)\n",
       "              (dropout): Dropout(p=0.1, inplace=False)\n",
       "            )\n",
       "          )\n",
       "          (intermediate): RobertaIntermediate(\n",
       "            (dense): Linear(in_features=768, out_features=3072, bias=True)\n",
       "            (intermediate_act_fn): GELUActivation()\n",
       "          )\n",
       "          (output): RobertaOutput(\n",
       "            (dense): Linear(in_features=3072, out_features=768, bias=True)\n",
       "            (LayerNorm): LayerNorm((768,), eps=1e-05, elementwise_affine=True)\n",
       "            (dropout): Dropout(p=0.1, inplace=False)\n",
       "          )\n",
       "        )\n",
       "      )\n",
       "    )\n",
       "    (pooler): RobertaPooler(\n",
       "      (dense): Linear(in_features=768, out_features=768, bias=True)\n",
       "      (activation): Tanh()\n",
       "    )\n",
       "  )\n",
       "  (fc): Linear(in_features=768, out_features=5, bias=True)\n",
       ")"
      ]
     },
     "execution_count": 24,
     "metadata": {},
     "output_type": "execute_result"
    }
   ],
   "execution_count": 24
  },
  {
   "metadata": {
    "ExecuteTime": {
     "end_time": "2024-04-08T06:48:35.778083Z",
     "start_time": "2024-04-08T06:48:35.772034Z"
    }
   },
   "cell_type": "code",
   "source": [
    "def predict(text):\n",
    "    model.eval()\n",
    "    inputs = tokenizer.encode_plus(\n",
    "        text,\n",
    "        truncation=True,\n",
    "        add_special_tokens=True,\n",
    "        max_length=MAX_LEN,\n",
    "        padding='max_length',\n",
    "        return_token_type_ids=True\n",
    "    )\n",
    "    ids = torch.tensor(inputs['input_ids'], dtype=torch.long).unsqueeze(0)\n",
    "    mask = torch.tensor(inputs['attention_mask'], dtype=torch.long).unsqueeze(0)\n",
    "    token_type_ids = torch.tensor(inputs[\"token_type_ids\"], dtype=torch.long).unsqueeze(0)\n",
    "    outputs = model(ids, mask, token_type_ids)\n",
    "    outputs = torch.sigmoid(outputs).cpu().detach().numpy()\n",
    "    return outputs"
   ],
   "id": "ca24a70273fd0fab",
   "outputs": [],
   "execution_count": 25
  },
  {
   "metadata": {
    "ExecuteTime": {
     "end_time": "2024-04-08T06:53:44.976784Z",
     "start_time": "2024-04-08T06:53:44.973717Z"
    }
   },
   "cell_type": "code",
   "source": "test = df_val.iloc[:10]",
   "id": "26a8482e821f8778",
   "outputs": [],
   "execution_count": 45
  },
  {
   "metadata": {
    "ExecuteTime": {
     "end_time": "2024-04-08T07:00:41.859102Z",
     "start_time": "2024-04-08T07:00:41.855887Z"
    }
   },
   "cell_type": "code",
   "source": "i = 2",
   "id": "e37a94b34f633be7",
   "outputs": [],
   "execution_count": 62
  },
  {
   "metadata": {
    "ExecuteTime": {
     "end_time": "2024-04-08T07:00:42.002395Z",
     "start_time": "2024-04-08T07:00:41.997096Z"
    }
   },
   "cell_type": "code",
   "source": "test.iloc[i].text",
   "id": "b752da6fb26f8cc9",
   "outputs": [
    {
     "data": {
      "text/plain": [
       "\"crushing in the sheets , two bodies in the heatwe ' re in love , we re fucking in the cartime flies when you don ' t wanna die so by this rate we gotta try and stay alive cause we ' re tight , two peas in a pod , two hooks sinking down from the same little fishing rodnothing makes me happier than watching you winhey that s something new , i was a selfish kidyeah that ' s pretty weird right , that ' s pretty strangewell have you ever seen a jellyfish ? now that shit ' s crazyi think you saved mei know you saved mei don ' t even know if i ' m real or if you are or if we ' re just a simulation staged from a sports bar on marswhere the aliens drink , watching dishes build up in the kitchen sinkand they ' re placing their bets , hanging their heads , got money on who s gonna die in bedwho s gonna play with themselves againwho ' s breaking down mentally nextbut how nice is it , that i can watch you wini couldn t care less which world i ' m inand that ' s the only sense that i can makeand i hope for your sake that you can relateyeah that ' s pretty weird right , that s pretty strangewell have you ever seen a jellyfish ? now that shit ' s crazyi think you saved mei know you saved medon ' t mind me just screaming out your name followed up by you can do iti know you can do itand i ' ll hold you to itagainst this pretty smoke screen out in outer spacethe whole damn thing kinda feels like a cold casethe more you know the less you carescience and god are just uncomfortable underwearshame on me for always saying something uncool , but when we ' re both dead we ' ll probably get a swimming poolsure , oh yeah fuck it let ' s get fourone for me and you and the other three to skateboardyeah that ' s pretty weird right , that ' s pretty strangewell have you ever seen a jellyfish ? now that shit ' s crazyi think you saved mei know you saved me i know you saved me\""
      ]
     },
     "execution_count": 63,
     "metadata": {},
     "output_type": "execute_result"
    }
   ],
   "execution_count": 63
  },
  {
   "metadata": {
    "ExecuteTime": {
     "end_time": "2024-04-08T07:00:42.589316Z",
     "start_time": "2024-04-08T07:00:42.584114Z"
    }
   },
   "cell_type": "code",
   "source": "test.iloc[i]",
   "id": "d42ab65d17d42a",
   "outputs": [
    {
     "data": {
      "text/plain": [
       "text       crushing in the sheets , two bodies in the heatwe ' re in love , we re fucking in the cartime flies when you don ' t wanna die so by this rate we gotta try and stay alive cause we ' re tight , two peas in a pod , two hooks sinking down from the same little fishing rodnothing makes me happier than watching you winhey that s something new , i was a selfish kidyeah that ' s pretty weird right , that ' s pretty strangewell have you ever seen a jellyfish ? now that shit ' s crazyi think you saved mei know you saved mei don ' t even know if i ' m real or if you are or if we ' re just a simulation staged from a sports bar on marswhere the aliens drink , watching dishes build up in the kitchen sinkand they ' re placing their bets , hanging their heads , got money on who s gonna die in bedwho s gonna play with themselves againwho ' s breaking down mentally nextbut how nice is it , that i can watch you wini couldn t care less which world i ' m inand that ' s the only sense that i can makeand i hope for your sake that you can relateyeah that ' s pretty weird right , that s pretty strangewell have you ever seen a jellyfish ? now that shit ' s crazyi think you saved mei know you saved medon ' t mind me just screaming out your name followed up by you can do iti know you can do itand i ' ll hold you to itagainst this pretty smoke screen out in outer spacethe whole damn thing kinda feels like a cold casethe more you know the less you carescience and god are just uncomfortable underwearshame on me for always saying something uncool , but when we ' re both dead we ' ll probably get a swimming poolsure , oh yeah fuck it let ' s get fourone for me and you and the other three to skateboardyeah that ' s pretty weird right , that ' s pretty strangewell have you ever seen a jellyfish ? now that shit ' s crazyi think you saved mei know you saved me i know you saved me\n",
       "rap                                                                                                                                                                                                                                                                                                                                                                                                                                                                                                                                                                                                                                                                                                                                                                                                                                                                                                                                                                                                                                                                                                                                                                                                                                                                                                                                                                                                                                                                                                                                                                                                                                                                                                                                                                                                                                                                                                                                                        0.0\n",
       "pop                                                                                                                                                                                                                                                                                                                                                                                                                                                                                                                                                                                                                                                                                                                                                                                                                                                                                                                                                                                                                                                                                                                                                                                                                                                                                                                                                                                                                                                                                                                                                                                                                                                                                                                                                                                                                                                                                                                                                        0.0\n",
       "rock                                                                                                                                                                                                                                                                                                                                                                                                                                                                                                                                                                                                                                                                                                                                                                                                                                                                                                                                                                                                                                                                                                                                                                                                                                                                                                                                                                                                                                                                                                                                                                                                                                                                                                                                                                                                                                                                                                                                                       0.0\n",
       "rb                                                                                                                                                                                                                                                                                                                                                                                                                                                                                                                                                                                                                                                                                                                                                                                                                                                                                                                                                                                                                                                                                                                                                                                                                                                                                                                                                                                                                                                                                                                                                                                                                                                                                                                                                                                                                                                                                                                                                         0.0\n",
       "country                                                                                                                                                                                                                                                                                                                                                                                                                                                                                                                                                                                                                                                                                                                                                                                                                                                                                                                                                                                                                                                                                                                                                                                                                                                                                                                                                                                                                                                                                                                                                                                                                                                                                                                                                                                                                                                                                                                                                    1.0\n",
       "Name: 2, dtype: object"
      ]
     },
     "execution_count": 64,
     "metadata": {},
     "output_type": "execute_result"
    }
   ],
   "execution_count": 64
  },
  {
   "metadata": {
    "ExecuteTime": {
     "end_time": "2024-04-08T06:54:51.582942Z",
     "start_time": "2024-04-08T06:54:50.476193Z"
    }
   },
   "cell_type": "code",
   "source": [
    "for text in test.text:\n",
    "    outputs = predict(text)\n",
    "    outputs_max = np.argmax(outputs)\n",
    "    tag = target_cols[outputs_max]\n",
    "    print(outputs)\n",
    "    print(f\"Predicted Tag: {tag}\")\n",
    "    print()\n"
   ],
   "id": "452777d425bd8995",
   "outputs": [
    {
     "name": "stdout",
     "output_type": "stream",
     "text": [
      "[[0.00173563 0.00118704 0.9944351  0.00154147 0.00105888]]\n",
      "Predicted Tag: rock\n",
      "\n",
      "[[8.0763958e-03 4.2739205e-02 2.8744020e-04 2.6778230e-03 9.5094585e-01]]\n",
      "Predicted Tag: country\n",
      "\n",
      "[[0.0039003  0.09399678 0.00234132 0.00330439 0.91061956]]\n",
      "Predicted Tag: country\n",
      "\n",
      "[[0.00172226 0.00691838 0.00162187 0.00150994 0.99212986]]\n",
      "Predicted Tag: country\n",
      "\n",
      "[[0.00174412 0.0063479  0.00193696 0.00143883 0.9921787 ]]\n",
      "Predicted Tag: country\n",
      "\n",
      "[[9.7395533e-01 1.9941580e-02 2.9332418e-04 3.4603490e-03 7.9612574e-03]]\n",
      "Predicted Tag: rap\n",
      "\n",
      "[[8.4874898e-01 1.4867063e-01 1.7747722e-04 6.4873165e-03 1.4381234e-02]]\n",
      "Predicted Tag: rap\n",
      "\n",
      "[[0.00156563 0.8235386  0.13255306 0.05709378 0.00647233]]\n",
      "Predicted Tag: pop\n",
      "\n",
      "[[0.00133492 0.00102144 0.9942796  0.00194161 0.00119073]]\n",
      "Predicted Tag: rock\n",
      "\n",
      "[[0.00441524 0.51239955 0.00279554 0.11510053 0.3540607 ]]\n",
      "Predicted Tag: pop\n",
      "\n"
     ]
    }
   ],
   "execution_count": 54
  }
 ],
 "metadata": {
  "kernelspec": {
   "display_name": "Python 3",
   "language": "python",
   "name": "python3"
  },
  "language_info": {
   "codemirror_mode": {
    "name": "ipython",
    "version": 2
   },
   "file_extension": ".py",
   "mimetype": "text/x-python",
   "name": "python",
   "nbconvert_exporter": "python",
   "pygments_lexer": "ipython2",
   "version": "2.7.6"
  }
 },
 "nbformat": 4,
 "nbformat_minor": 5
}
